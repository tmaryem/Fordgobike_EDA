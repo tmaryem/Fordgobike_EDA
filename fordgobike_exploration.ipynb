{
 "cells": [
  {
   "cell_type": "markdown",
   "metadata": {
    "slideshow": {
     "slide_type": "slide"
    }
   },
   "source": [
    "# Ford GoBike Dataset Exploration\n",
    "\n",
    "\n",
    "## Preliminary Wrangling\n",
    "\n",
    "> In this project, I'll conduct an exploratory data analysis on a Ford GoBike system dataset in order to explore the dataset's variables and understand the data's structure and relationships. after that, I'll convey the main findings to others through an explanatory analysis.  \n",
    "> Ford GoBike system dataset provides information about 183412 individual rides made in a bike-sharing system covering San Franciso Bay area.   \n",
    "The dataset includes variables about the following informations :\n",
    "> * Ride Duration  \n",
    "> * Birth Year  \n",
    "> * Start Station (Name and coordinates)  \n",
    "> * End Station (Name and coordinates)  \n",
    "> * User Type (Subscriber, Customer) \n",
    "\n"
   ]
  },
  {
   "cell_type": "code",
   "execution_count": 2,
   "metadata": {
    "slideshow": {
     "slide_type": "skip"
    }
   },
   "outputs": [],
   "source": [
    "# import all packages and set plots to be embedded inline\n",
    "import numpy as np\n",
    "import pandas as pd\n",
    "import matplotlib.pyplot as plt\n",
    "import seaborn as sb\n",
    "import math as m\n",
    "\n",
    "%matplotlib inline"
   ]
  },
  {
   "cell_type": "markdown",
   "metadata": {
    "slideshow": {
     "slide_type": "skip"
    }
   },
   "source": [
    "> Let's start by Load the dataset and describe its properties. "
   ]
  },
  {
   "cell_type": "code",
   "execution_count": 3,
   "metadata": {
    "slideshow": {
     "slide_type": "skip"
    }
   },
   "outputs": [
    {
     "data": {
      "text/html": [
       "<div>\n",
       "<style scoped>\n",
       "    .dataframe tbody tr th:only-of-type {\n",
       "        vertical-align: middle;\n",
       "    }\n",
       "\n",
       "    .dataframe tbody tr th {\n",
       "        vertical-align: top;\n",
       "    }\n",
       "\n",
       "    .dataframe thead th {\n",
       "        text-align: right;\n",
       "    }\n",
       "</style>\n",
       "<table border=\"1\" class=\"dataframe\">\n",
       "  <thead>\n",
       "    <tr style=\"text-align: right;\">\n",
       "      <th></th>\n",
       "      <th>duration_sec</th>\n",
       "      <th>start_time</th>\n",
       "      <th>end_time</th>\n",
       "      <th>start_station_id</th>\n",
       "      <th>start_station_name</th>\n",
       "      <th>start_station_latitude</th>\n",
       "      <th>start_station_longitude</th>\n",
       "      <th>end_station_id</th>\n",
       "      <th>end_station_name</th>\n",
       "      <th>end_station_latitude</th>\n",
       "      <th>end_station_longitude</th>\n",
       "      <th>bike_id</th>\n",
       "      <th>user_type</th>\n",
       "      <th>member_birth_year</th>\n",
       "      <th>member_gender</th>\n",
       "      <th>bike_share_for_all_trip</th>\n",
       "    </tr>\n",
       "  </thead>\n",
       "  <tbody>\n",
       "    <tr>\n",
       "      <th>0</th>\n",
       "      <td>52185</td>\n",
       "      <td>2019-02-28 17:32:10.1450</td>\n",
       "      <td>2019-03-01 08:01:55.9750</td>\n",
       "      <td>21.0</td>\n",
       "      <td>Montgomery St BART Station (Market St at 2nd St)</td>\n",
       "      <td>37.789625</td>\n",
       "      <td>-122.400811</td>\n",
       "      <td>13.0</td>\n",
       "      <td>Commercial St at Montgomery St</td>\n",
       "      <td>37.794231</td>\n",
       "      <td>-122.402923</td>\n",
       "      <td>4902</td>\n",
       "      <td>Customer</td>\n",
       "      <td>1984.0</td>\n",
       "      <td>Male</td>\n",
       "      <td>No</td>\n",
       "    </tr>\n",
       "    <tr>\n",
       "      <th>1</th>\n",
       "      <td>42521</td>\n",
       "      <td>2019-02-28 18:53:21.7890</td>\n",
       "      <td>2019-03-01 06:42:03.0560</td>\n",
       "      <td>23.0</td>\n",
       "      <td>The Embarcadero at Steuart St</td>\n",
       "      <td>37.791464</td>\n",
       "      <td>-122.391034</td>\n",
       "      <td>81.0</td>\n",
       "      <td>Berry St at 4th St</td>\n",
       "      <td>37.775880</td>\n",
       "      <td>-122.393170</td>\n",
       "      <td>2535</td>\n",
       "      <td>Customer</td>\n",
       "      <td>NaN</td>\n",
       "      <td>NaN</td>\n",
       "      <td>No</td>\n",
       "    </tr>\n",
       "    <tr>\n",
       "      <th>2</th>\n",
       "      <td>61854</td>\n",
       "      <td>2019-02-28 12:13:13.2180</td>\n",
       "      <td>2019-03-01 05:24:08.1460</td>\n",
       "      <td>86.0</td>\n",
       "      <td>Market St at Dolores St</td>\n",
       "      <td>37.769305</td>\n",
       "      <td>-122.426826</td>\n",
       "      <td>3.0</td>\n",
       "      <td>Powell St BART Station (Market St at 4th St)</td>\n",
       "      <td>37.786375</td>\n",
       "      <td>-122.404904</td>\n",
       "      <td>5905</td>\n",
       "      <td>Customer</td>\n",
       "      <td>1972.0</td>\n",
       "      <td>Male</td>\n",
       "      <td>No</td>\n",
       "    </tr>\n",
       "    <tr>\n",
       "      <th>3</th>\n",
       "      <td>36490</td>\n",
       "      <td>2019-02-28 17:54:26.0100</td>\n",
       "      <td>2019-03-01 04:02:36.8420</td>\n",
       "      <td>375.0</td>\n",
       "      <td>Grove St at Masonic Ave</td>\n",
       "      <td>37.774836</td>\n",
       "      <td>-122.446546</td>\n",
       "      <td>70.0</td>\n",
       "      <td>Central Ave at Fell St</td>\n",
       "      <td>37.773311</td>\n",
       "      <td>-122.444293</td>\n",
       "      <td>6638</td>\n",
       "      <td>Subscriber</td>\n",
       "      <td>1989.0</td>\n",
       "      <td>Other</td>\n",
       "      <td>No</td>\n",
       "    </tr>\n",
       "    <tr>\n",
       "      <th>4</th>\n",
       "      <td>1585</td>\n",
       "      <td>2019-02-28 23:54:18.5490</td>\n",
       "      <td>2019-03-01 00:20:44.0740</td>\n",
       "      <td>7.0</td>\n",
       "      <td>Frank H Ogawa Plaza</td>\n",
       "      <td>37.804562</td>\n",
       "      <td>-122.271738</td>\n",
       "      <td>222.0</td>\n",
       "      <td>10th Ave at E 15th St</td>\n",
       "      <td>37.792714</td>\n",
       "      <td>-122.248780</td>\n",
       "      <td>4898</td>\n",
       "      <td>Subscriber</td>\n",
       "      <td>1974.0</td>\n",
       "      <td>Male</td>\n",
       "      <td>Yes</td>\n",
       "    </tr>\n",
       "  </tbody>\n",
       "</table>\n",
       "</div>"
      ],
      "text/plain": [
       "   duration_sec                start_time                  end_time  \\\n",
       "0         52185  2019-02-28 17:32:10.1450  2019-03-01 08:01:55.9750   \n",
       "1         42521  2019-02-28 18:53:21.7890  2019-03-01 06:42:03.0560   \n",
       "2         61854  2019-02-28 12:13:13.2180  2019-03-01 05:24:08.1460   \n",
       "3         36490  2019-02-28 17:54:26.0100  2019-03-01 04:02:36.8420   \n",
       "4          1585  2019-02-28 23:54:18.5490  2019-03-01 00:20:44.0740   \n",
       "\n",
       "   start_station_id                                start_station_name  \\\n",
       "0              21.0  Montgomery St BART Station (Market St at 2nd St)   \n",
       "1              23.0                     The Embarcadero at Steuart St   \n",
       "2              86.0                           Market St at Dolores St   \n",
       "3             375.0                           Grove St at Masonic Ave   \n",
       "4               7.0                               Frank H Ogawa Plaza   \n",
       "\n",
       "   start_station_latitude  start_station_longitude  end_station_id  \\\n",
       "0               37.789625              -122.400811            13.0   \n",
       "1               37.791464              -122.391034            81.0   \n",
       "2               37.769305              -122.426826             3.0   \n",
       "3               37.774836              -122.446546            70.0   \n",
       "4               37.804562              -122.271738           222.0   \n",
       "\n",
       "                               end_station_name  end_station_latitude  \\\n",
       "0                Commercial St at Montgomery St             37.794231   \n",
       "1                            Berry St at 4th St             37.775880   \n",
       "2  Powell St BART Station (Market St at 4th St)             37.786375   \n",
       "3                        Central Ave at Fell St             37.773311   \n",
       "4                         10th Ave at E 15th St             37.792714   \n",
       "\n",
       "   end_station_longitude  bike_id   user_type  member_birth_year  \\\n",
       "0            -122.402923     4902    Customer             1984.0   \n",
       "1            -122.393170     2535    Customer                NaN   \n",
       "2            -122.404904     5905    Customer             1972.0   \n",
       "3            -122.444293     6638  Subscriber             1989.0   \n",
       "4            -122.248780     4898  Subscriber             1974.0   \n",
       "\n",
       "  member_gender bike_share_for_all_trip  \n",
       "0          Male                      No  \n",
       "1           NaN                      No  \n",
       "2          Male                      No  \n",
       "3         Other                      No  \n",
       "4          Male                     Yes  "
      ]
     },
     "execution_count": 3,
     "metadata": {},
     "output_type": "execute_result"
    }
   ],
   "source": [
    "#Load Dataset\n",
    "fordgobike = pd.read_csv('fordgobike_tripdata.csv')\n",
    "fordgobike.head()"
   ]
  },
  {
   "cell_type": "markdown",
   "metadata": {
    "slideshow": {
     "slide_type": "skip"
    }
   },
   "source": [
    "### Assessing Data"
   ]
  },
  {
   "cell_type": "code",
   "execution_count": 3,
   "metadata": {
    "slideshow": {
     "slide_type": "skip"
    }
   },
   "outputs": [
    {
     "name": "stdout",
     "output_type": "stream",
     "text": [
      "<class 'pandas.core.frame.DataFrame'>\n",
      "RangeIndex: 183412 entries, 0 to 183411\n",
      "Data columns (total 16 columns):\n",
      " #   Column                   Non-Null Count   Dtype  \n",
      "---  ------                   --------------   -----  \n",
      " 0   duration_sec             183412 non-null  int64  \n",
      " 1   start_time               183412 non-null  object \n",
      " 2   end_time                 183412 non-null  object \n",
      " 3   start_station_id         183215 non-null  float64\n",
      " 4   start_station_name       183215 non-null  object \n",
      " 5   start_station_latitude   183412 non-null  float64\n",
      " 6   start_station_longitude  183412 non-null  float64\n",
      " 7   end_station_id           183215 non-null  float64\n",
      " 8   end_station_name         183215 non-null  object \n",
      " 9   end_station_latitude     183412 non-null  float64\n",
      " 10  end_station_longitude    183412 non-null  float64\n",
      " 11  bike_id                  183412 non-null  int64  \n",
      " 12  user_type                183412 non-null  object \n",
      " 13  member_birth_year        175147 non-null  float64\n",
      " 14  member_gender            175147 non-null  object \n",
      " 15  bike_share_for_all_trip  183412 non-null  object \n",
      "dtypes: float64(7), int64(2), object(7)\n",
      "memory usage: 17.5+ MB\n"
     ]
    }
   ],
   "source": [
    "fordgobike.info()"
   ]
  },
  {
   "cell_type": "code",
   "execution_count": 4,
   "metadata": {
    "slideshow": {
     "slide_type": "skip"
    }
   },
   "outputs": [
    {
     "data": {
      "text/plain": [
       "130115    315.0\n",
       "73971      66.0\n",
       "31376     113.0\n",
       "7565      233.0\n",
       "57220       3.0\n",
       "Name: start_station_id, dtype: float64"
      ]
     },
     "execution_count": 4,
     "metadata": {},
     "output_type": "execute_result"
    }
   ],
   "source": [
    "fordgobike.start_station_id.sample(5)"
   ]
  },
  {
   "cell_type": "code",
   "execution_count": 5,
   "metadata": {
    "slideshow": {
     "slide_type": "skip"
    }
   },
   "outputs": [
    {
     "data": {
      "text/plain": [
       "1105      130.0\n",
       "154250     99.0\n",
       "124002     21.0\n",
       "133209     61.0\n",
       "13960     324.0\n",
       "Name: end_station_id, dtype: float64"
      ]
     },
     "execution_count": 5,
     "metadata": {},
     "output_type": "execute_result"
    }
   ],
   "source": [
    "fordgobike.end_station_id.sample(5)"
   ]
  },
  {
   "cell_type": "code",
   "execution_count": 6,
   "metadata": {
    "slideshow": {
     "slide_type": "skip"
    }
   },
   "outputs": [
    {
     "data": {
      "text/plain": [
       "23556     1991.0\n",
       "39239     1977.0\n",
       "183367    1981.0\n",
       "108002    1998.0\n",
       "72254     1998.0\n",
       "Name: member_birth_year, dtype: float64"
      ]
     },
     "execution_count": 6,
     "metadata": {},
     "output_type": "execute_result"
    }
   ],
   "source": [
    "fordgobike.member_birth_year.sample(5)"
   ]
  },
  {
   "cell_type": "code",
   "execution_count": 7,
   "metadata": {
    "slideshow": {
     "slide_type": "skip"
    }
   },
   "outputs": [
    {
     "data": {
      "text/plain": [
       "No     166053\n",
       "Yes     17359\n",
       "Name: bike_share_for_all_trip, dtype: int64"
      ]
     },
     "execution_count": 7,
     "metadata": {},
     "output_type": "execute_result"
    }
   ],
   "source": [
    "fordgobike.bike_share_for_all_trip.value_counts()"
   ]
  },
  {
   "cell_type": "code",
   "execution_count": 8,
   "metadata": {
    "slideshow": {
     "slide_type": "skip"
    }
   },
   "outputs": [
    {
     "data": {
      "text/plain": [
       "Subscriber    163544\n",
       "Customer       19868\n",
       "Name: user_type, dtype: int64"
      ]
     },
     "execution_count": 8,
     "metadata": {},
     "output_type": "execute_result"
    }
   ],
   "source": [
    "fordgobike.user_type.value_counts()"
   ]
  },
  {
   "cell_type": "code",
   "execution_count": 12,
   "metadata": {
    "slideshow": {
     "slide_type": "skip"
    }
   },
   "outputs": [
    {
     "data": {
      "text/plain": [
       "Male      130651\n",
       "Female     40844\n",
       "Other       3652\n",
       "Name: member_gender, dtype: int64"
      ]
     },
     "execution_count": 12,
     "metadata": {},
     "output_type": "execute_result"
    }
   ],
   "source": [
    "fordgobike.member_gender.value_counts()"
   ]
  },
  {
   "cell_type": "code",
   "execution_count": 104,
   "metadata": {
    "slideshow": {
     "slide_type": "skip"
    }
   },
   "outputs": [
    {
     "data": {
      "text/plain": [
       "0"
      ]
     },
     "execution_count": 104,
     "metadata": {},
     "output_type": "execute_result"
    }
   ],
   "source": [
    "fordgobike.duplicated().sum()"
   ]
  },
  {
   "cell_type": "code",
   "execution_count": 9,
   "metadata": {
    "slideshow": {
     "slide_type": "skip"
    }
   },
   "outputs": [
    {
     "data": {
      "text/plain": [
       "duration_sec                  0\n",
       "start_time                    0\n",
       "end_time                      0\n",
       "start_station_id            197\n",
       "start_station_name          197\n",
       "start_station_latitude        0\n",
       "start_station_longitude       0\n",
       "end_station_id              197\n",
       "end_station_name            197\n",
       "end_station_latitude          0\n",
       "end_station_longitude         0\n",
       "bike_id                       0\n",
       "user_type                     0\n",
       "member_birth_year          8265\n",
       "member_gender              8265\n",
       "bike_share_for_all_trip       0\n",
       "dtype: int64"
      ]
     },
     "execution_count": 9,
     "metadata": {},
     "output_type": "execute_result"
    }
   ],
   "source": [
    "fordgobike.isnull().sum()"
   ]
  },
  {
   "cell_type": "code",
   "execution_count": 10,
   "metadata": {
    "slideshow": {
     "slide_type": "skip"
    }
   },
   "outputs": [
    {
     "data": {
      "text/html": [
       "<div>\n",
       "<style scoped>\n",
       "    .dataframe tbody tr th:only-of-type {\n",
       "        vertical-align: middle;\n",
       "    }\n",
       "\n",
       "    .dataframe tbody tr th {\n",
       "        vertical-align: top;\n",
       "    }\n",
       "\n",
       "    .dataframe thead th {\n",
       "        text-align: right;\n",
       "    }\n",
       "</style>\n",
       "<table border=\"1\" class=\"dataframe\">\n",
       "  <thead>\n",
       "    <tr style=\"text-align: right;\">\n",
       "      <th></th>\n",
       "      <th>duration_sec</th>\n",
       "      <th>start_station_id</th>\n",
       "      <th>start_station_latitude</th>\n",
       "      <th>start_station_longitude</th>\n",
       "      <th>end_station_id</th>\n",
       "      <th>end_station_latitude</th>\n",
       "      <th>end_station_longitude</th>\n",
       "      <th>bike_id</th>\n",
       "      <th>member_birth_year</th>\n",
       "    </tr>\n",
       "  </thead>\n",
       "  <tbody>\n",
       "    <tr>\n",
       "      <th>count</th>\n",
       "      <td>183412.000000</td>\n",
       "      <td>183215.000000</td>\n",
       "      <td>183412.000000</td>\n",
       "      <td>183412.000000</td>\n",
       "      <td>183215.000000</td>\n",
       "      <td>183412.000000</td>\n",
       "      <td>183412.000000</td>\n",
       "      <td>183412.000000</td>\n",
       "      <td>175147.000000</td>\n",
       "    </tr>\n",
       "    <tr>\n",
       "      <th>mean</th>\n",
       "      <td>726.078435</td>\n",
       "      <td>138.590427</td>\n",
       "      <td>37.771223</td>\n",
       "      <td>-122.352664</td>\n",
       "      <td>136.249123</td>\n",
       "      <td>37.771427</td>\n",
       "      <td>-122.352250</td>\n",
       "      <td>4472.906375</td>\n",
       "      <td>1984.806437</td>\n",
       "    </tr>\n",
       "    <tr>\n",
       "      <th>std</th>\n",
       "      <td>1794.389780</td>\n",
       "      <td>111.778864</td>\n",
       "      <td>0.099581</td>\n",
       "      <td>0.117097</td>\n",
       "      <td>111.515131</td>\n",
       "      <td>0.099490</td>\n",
       "      <td>0.116673</td>\n",
       "      <td>1664.383394</td>\n",
       "      <td>10.116689</td>\n",
       "    </tr>\n",
       "    <tr>\n",
       "      <th>min</th>\n",
       "      <td>61.000000</td>\n",
       "      <td>3.000000</td>\n",
       "      <td>37.317298</td>\n",
       "      <td>-122.453704</td>\n",
       "      <td>3.000000</td>\n",
       "      <td>37.317298</td>\n",
       "      <td>-122.453704</td>\n",
       "      <td>11.000000</td>\n",
       "      <td>1878.000000</td>\n",
       "    </tr>\n",
       "    <tr>\n",
       "      <th>25%</th>\n",
       "      <td>325.000000</td>\n",
       "      <td>47.000000</td>\n",
       "      <td>37.770083</td>\n",
       "      <td>-122.412408</td>\n",
       "      <td>44.000000</td>\n",
       "      <td>37.770407</td>\n",
       "      <td>-122.411726</td>\n",
       "      <td>3777.000000</td>\n",
       "      <td>1980.000000</td>\n",
       "    </tr>\n",
       "    <tr>\n",
       "      <th>50%</th>\n",
       "      <td>514.000000</td>\n",
       "      <td>104.000000</td>\n",
       "      <td>37.780760</td>\n",
       "      <td>-122.398285</td>\n",
       "      <td>100.000000</td>\n",
       "      <td>37.781010</td>\n",
       "      <td>-122.398279</td>\n",
       "      <td>4958.000000</td>\n",
       "      <td>1987.000000</td>\n",
       "    </tr>\n",
       "    <tr>\n",
       "      <th>75%</th>\n",
       "      <td>796.000000</td>\n",
       "      <td>239.000000</td>\n",
       "      <td>37.797280</td>\n",
       "      <td>-122.286533</td>\n",
       "      <td>235.000000</td>\n",
       "      <td>37.797320</td>\n",
       "      <td>-122.288045</td>\n",
       "      <td>5502.000000</td>\n",
       "      <td>1992.000000</td>\n",
       "    </tr>\n",
       "    <tr>\n",
       "      <th>max</th>\n",
       "      <td>85444.000000</td>\n",
       "      <td>398.000000</td>\n",
       "      <td>37.880222</td>\n",
       "      <td>-121.874119</td>\n",
       "      <td>398.000000</td>\n",
       "      <td>37.880222</td>\n",
       "      <td>-121.874119</td>\n",
       "      <td>6645.000000</td>\n",
       "      <td>2001.000000</td>\n",
       "    </tr>\n",
       "  </tbody>\n",
       "</table>\n",
       "</div>"
      ],
      "text/plain": [
       "        duration_sec  start_station_id  start_station_latitude  \\\n",
       "count  183412.000000     183215.000000           183412.000000   \n",
       "mean      726.078435        138.590427               37.771223   \n",
       "std      1794.389780        111.778864                0.099581   \n",
       "min        61.000000          3.000000               37.317298   \n",
       "25%       325.000000         47.000000               37.770083   \n",
       "50%       514.000000        104.000000               37.780760   \n",
       "75%       796.000000        239.000000               37.797280   \n",
       "max     85444.000000        398.000000               37.880222   \n",
       "\n",
       "       start_station_longitude  end_station_id  end_station_latitude  \\\n",
       "count            183412.000000   183215.000000         183412.000000   \n",
       "mean               -122.352664      136.249123             37.771427   \n",
       "std                   0.117097      111.515131              0.099490   \n",
       "min                -122.453704        3.000000             37.317298   \n",
       "25%                -122.412408       44.000000             37.770407   \n",
       "50%                -122.398285      100.000000             37.781010   \n",
       "75%                -122.286533      235.000000             37.797320   \n",
       "max                -121.874119      398.000000             37.880222   \n",
       "\n",
       "       end_station_longitude        bike_id  member_birth_year  \n",
       "count          183412.000000  183412.000000      175147.000000  \n",
       "mean             -122.352250    4472.906375        1984.806437  \n",
       "std                 0.116673    1664.383394          10.116689  \n",
       "min              -122.453704      11.000000        1878.000000  \n",
       "25%              -122.411726    3777.000000        1980.000000  \n",
       "50%              -122.398279    4958.000000        1987.000000  \n",
       "75%              -122.288045    5502.000000        1992.000000  \n",
       "max              -121.874119    6645.000000        2001.000000  "
      ]
     },
     "execution_count": 10,
     "metadata": {},
     "output_type": "execute_result"
    }
   ],
   "source": [
    "fordgobike.describe()"
   ]
  },
  {
   "cell_type": "markdown",
   "metadata": {
    "slideshow": {
     "slide_type": "skip"
    }
   },
   "source": [
    "#### Quality and Tidiness"
   ]
  },
  {
   "cell_type": "markdown",
   "metadata": {
    "slideshow": {
     "slide_type": "skip"
    }
   },
   "source": [
    "Erroneous datatype :\n",
    "   * start_time and end_time columns are string.\n",
    "   * start_station_id and end_station_id columns are float64. \n",
    "   * member_birth_year columns is float.\n",
    "   * bike_share_for_all_trip, user_type and member_gender columns are string.  \n",
    "\n",
    "Null Values :\n",
    "   * Null values in start_station_id and start_station_name columns.\n",
    "   * Null values in end_station_id and end_station_name columns\n",
    "   * Null values in member_birth_year and member_gender columns."
   ]
  },
  {
   "cell_type": "markdown",
   "metadata": {
    "slideshow": {
     "slide_type": "skip"
    }
   },
   "source": [
    "### Cleaning Data"
   ]
  },
  {
   "cell_type": "markdown",
   "metadata": {
    "slideshow": {
     "slide_type": "skip"
    }
   },
   "source": [
    "To start, let's create a copy of the original dataframe."
   ]
  },
  {
   "cell_type": "code",
   "execution_count": 5,
   "metadata": {
    "slideshow": {
     "slide_type": "skip"
    }
   },
   "outputs": [],
   "source": [
    "fordgobike_clean = fordgobike.copy()"
   ]
  },
  {
   "cell_type": "markdown",
   "metadata": {
    "slideshow": {
     "slide_type": "skip"
    }
   },
   "source": [
    "Erroneous datatype 1 : start_time and end_time are string instead of datatime  "
   ]
  },
  {
   "cell_type": "code",
   "execution_count": 12,
   "metadata": {
    "slideshow": {
     "slide_type": "skip"
    }
   },
   "outputs": [],
   "source": [
    "fordgobike_clean['start_time'] = pd.to_datetime(fordgobike_clean['start_time'])\n",
    "fordgobike_clean['end_time'] = pd.to_datetime(fordgobike_clean['end_time'])"
   ]
  },
  {
   "cell_type": "code",
   "execution_count": 13,
   "metadata": {
    "slideshow": {
     "slide_type": "skip"
    }
   },
   "outputs": [
    {
     "name": "stdout",
     "output_type": "stream",
     "text": [
      "<class 'pandas.core.frame.DataFrame'>\n",
      "RangeIndex: 183412 entries, 0 to 183411\n",
      "Data columns (total 16 columns):\n",
      " #   Column                   Non-Null Count   Dtype         \n",
      "---  ------                   --------------   -----         \n",
      " 0   duration_sec             183412 non-null  int64         \n",
      " 1   start_time               183412 non-null  datetime64[ns]\n",
      " 2   end_time                 183412 non-null  datetime64[ns]\n",
      " 3   start_station_id         183215 non-null  float64       \n",
      " 4   start_station_name       183215 non-null  object        \n",
      " 5   start_station_latitude   183412 non-null  float64       \n",
      " 6   start_station_longitude  183412 non-null  float64       \n",
      " 7   end_station_id           183215 non-null  float64       \n",
      " 8   end_station_name         183215 non-null  object        \n",
      " 9   end_station_latitude     183412 non-null  float64       \n",
      " 10  end_station_longitude    183412 non-null  float64       \n",
      " 11  bike_id                  183412 non-null  int64         \n",
      " 12  user_type                183412 non-null  object        \n",
      " 13  member_birth_year        175147 non-null  float64       \n",
      " 14  member_gender            175147 non-null  object        \n",
      " 15  bike_share_for_all_trip  183412 non-null  object        \n",
      "dtypes: datetime64[ns](2), float64(7), int64(2), object(5)\n",
      "memory usage: 18.9+ MB\n"
     ]
    }
   ],
   "source": [
    "fordgobike_clean.info()"
   ]
  },
  {
   "cell_type": "code",
   "execution_count": 14,
   "metadata": {
    "slideshow": {
     "slide_type": "skip"
    }
   },
   "outputs": [
    {
     "data": {
      "text/plain": [
       "34124    2019-02-24 09:00:50.955\n",
       "171495   2019-02-03 20:22:29.933\n",
       "65039    2019-02-20 10:11:46.029\n",
       "105081   2019-02-14 07:47:51.837\n",
       "1710     2019-02-28 18:38:26.460\n",
       "Name: start_time, dtype: datetime64[ns]"
      ]
     },
     "execution_count": 14,
     "metadata": {},
     "output_type": "execute_result"
    }
   ],
   "source": [
    "fordgobike_clean['start_time'].sample(5)"
   ]
  },
  {
   "cell_type": "markdown",
   "metadata": {
    "slideshow": {
     "slide_type": "skip"
    }
   },
   "source": [
    "Erroneous datatype 2 : start_station_id and end_station_id should be int64 instead of float64."
   ]
  },
  {
   "cell_type": "code",
   "execution_count": 6,
   "metadata": {
    "slideshow": {
     "slide_type": "skip"
    }
   },
   "outputs": [],
   "source": [
    "fordgobike_clean['start_station_id'] = fordgobike_clean['start_station_id'].astype('Int64')\n",
    "fordgobike_clean['end_station_id'] = fordgobike_clean['end_station_id'].astype('Int64')"
   ]
  },
  {
   "cell_type": "code",
   "execution_count": 16,
   "metadata": {
    "slideshow": {
     "slide_type": "skip"
    }
   },
   "outputs": [
    {
     "name": "stdout",
     "output_type": "stream",
     "text": [
      "<class 'pandas.core.frame.DataFrame'>\n",
      "RangeIndex: 183412 entries, 0 to 183411\n",
      "Data columns (total 16 columns):\n",
      " #   Column                   Non-Null Count   Dtype         \n",
      "---  ------                   --------------   -----         \n",
      " 0   duration_sec             183412 non-null  int64         \n",
      " 1   start_time               183412 non-null  datetime64[ns]\n",
      " 2   end_time                 183412 non-null  datetime64[ns]\n",
      " 3   start_station_id         183215 non-null  Int64         \n",
      " 4   start_station_name       183215 non-null  object        \n",
      " 5   start_station_latitude   183412 non-null  float64       \n",
      " 6   start_station_longitude  183412 non-null  float64       \n",
      " 7   end_station_id           183215 non-null  Int64         \n",
      " 8   end_station_name         183215 non-null  object        \n",
      " 9   end_station_latitude     183412 non-null  float64       \n",
      " 10  end_station_longitude    183412 non-null  float64       \n",
      " 11  bike_id                  183412 non-null  int64         \n",
      " 12  user_type                183412 non-null  object        \n",
      " 13  member_birth_year        175147 non-null  float64       \n",
      " 14  member_gender            175147 non-null  object        \n",
      " 15  bike_share_for_all_trip  183412 non-null  object        \n",
      "dtypes: Int64(2), datetime64[ns](2), float64(5), int64(2), object(5)\n",
      "memory usage: 19.2+ MB\n"
     ]
    }
   ],
   "source": [
    "fordgobike_clean.info()"
   ]
  },
  {
   "cell_type": "code",
   "execution_count": 17,
   "metadata": {
    "slideshow": {
     "slide_type": "skip"
    }
   },
   "outputs": [
    {
     "data": {
      "text/plain": [
       "163348    363\n",
       "9769      104\n",
       "16988     343\n",
       "179488    126\n",
       "175101    240\n",
       "Name: end_station_id, dtype: Int64"
      ]
     },
     "execution_count": 17,
     "metadata": {},
     "output_type": "execute_result"
    }
   ],
   "source": [
    "fordgobike_clean['end_station_id'].sample(5)"
   ]
  },
  {
   "cell_type": "markdown",
   "metadata": {
    "slideshow": {
     "slide_type": "skip"
    }
   },
   "source": [
    "Erroneous datatype 3 : convert type of member_birth_year column to int  "
   ]
  },
  {
   "cell_type": "code",
   "execution_count": 7,
   "metadata": {
    "slideshow": {
     "slide_type": "skip"
    }
   },
   "outputs": [],
   "source": [
    "fordgobike_clean['member_birth_year'] = fordgobike_clean['member_birth_year'].astype('Int64')"
   ]
  },
  {
   "cell_type": "code",
   "execution_count": 19,
   "metadata": {
    "slideshow": {
     "slide_type": "skip"
    }
   },
   "outputs": [
    {
     "name": "stdout",
     "output_type": "stream",
     "text": [
      "<class 'pandas.core.frame.DataFrame'>\n",
      "RangeIndex: 183412 entries, 0 to 183411\n",
      "Data columns (total 16 columns):\n",
      " #   Column                   Non-Null Count   Dtype         \n",
      "---  ------                   --------------   -----         \n",
      " 0   duration_sec             183412 non-null  int64         \n",
      " 1   start_time               183412 non-null  datetime64[ns]\n",
      " 2   end_time                 183412 non-null  datetime64[ns]\n",
      " 3   start_station_id         183215 non-null  Int64         \n",
      " 4   start_station_name       183215 non-null  object        \n",
      " 5   start_station_latitude   183412 non-null  float64       \n",
      " 6   start_station_longitude  183412 non-null  float64       \n",
      " 7   end_station_id           183215 non-null  Int64         \n",
      " 8   end_station_name         183215 non-null  object        \n",
      " 9   end_station_latitude     183412 non-null  float64       \n",
      " 10  end_station_longitude    183412 non-null  float64       \n",
      " 11  bike_id                  183412 non-null  int64         \n",
      " 12  user_type                183412 non-null  object        \n",
      " 13  member_birth_year        175147 non-null  Int64         \n",
      " 14  member_gender            175147 non-null  object        \n",
      " 15  bike_share_for_all_trip  183412 non-null  object        \n",
      "dtypes: Int64(3), datetime64[ns](2), float64(4), int64(2), object(5)\n",
      "memory usage: 19.4+ MB\n"
     ]
    }
   ],
   "source": [
    "fordgobike_clean.info()"
   ]
  },
  {
   "cell_type": "code",
   "execution_count": 20,
   "metadata": {
    "slideshow": {
     "slide_type": "skip"
    }
   },
   "outputs": [
    {
     "data": {
      "text/plain": [
       "1988    10236\n",
       "1993     9325\n",
       "1989     8972\n",
       "1990     8658\n",
       "1991     8498\n",
       "        ...  \n",
       "1930        1\n",
       "1928        1\n",
       "1927        1\n",
       "1878        1\n",
       "1910        1\n",
       "Name: member_birth_year, Length: 75, dtype: Int64"
      ]
     },
     "execution_count": 20,
     "metadata": {},
     "output_type": "execute_result"
    }
   ],
   "source": [
    "fordgobike_clean['member_birth_year'].value_counts()"
   ]
  },
  {
   "cell_type": "markdown",
   "metadata": {
    "slideshow": {
     "slide_type": "skip"
    }
   },
   "source": [
    "Erroneous datatype 4 : bike_share_for_all_trip, user_type and member_gender should be category instead of string."
   ]
  },
  {
   "cell_type": "code",
   "execution_count": 8,
   "metadata": {
    "slideshow": {
     "slide_type": "skip"
    }
   },
   "outputs": [],
   "source": [
    "fordgobike_clean['bike_share_for_all_trip'] = fordgobike_clean['bike_share_for_all_trip'].astype('category')\n",
    "fordgobike_clean['member_gender'] = fordgobike_clean['member_gender'].astype('category')\n",
    "fordgobike_clean['user_type'] = fordgobike_clean['user_type'].astype('category')"
   ]
  },
  {
   "cell_type": "code",
   "execution_count": 22,
   "metadata": {
    "slideshow": {
     "slide_type": "skip"
    }
   },
   "outputs": [
    {
     "name": "stdout",
     "output_type": "stream",
     "text": [
      "<class 'pandas.core.frame.DataFrame'>\n",
      "RangeIndex: 183412 entries, 0 to 183411\n",
      "Data columns (total 16 columns):\n",
      " #   Column                   Non-Null Count   Dtype         \n",
      "---  ------                   --------------   -----         \n",
      " 0   duration_sec             183412 non-null  int64         \n",
      " 1   start_time               183412 non-null  datetime64[ns]\n",
      " 2   end_time                 183412 non-null  datetime64[ns]\n",
      " 3   start_station_id         183215 non-null  Int64         \n",
      " 4   start_station_name       183215 non-null  object        \n",
      " 5   start_station_latitude   183412 non-null  float64       \n",
      " 6   start_station_longitude  183412 non-null  float64       \n",
      " 7   end_station_id           183215 non-null  Int64         \n",
      " 8   end_station_name         183215 non-null  object        \n",
      " 9   end_station_latitude     183412 non-null  float64       \n",
      " 10  end_station_longitude    183412 non-null  float64       \n",
      " 11  bike_id                  183412 non-null  int64         \n",
      " 12  user_type                183412 non-null  category      \n",
      " 13  member_birth_year        175147 non-null  Int64         \n",
      " 14  member_gender            175147 non-null  category      \n",
      " 15  bike_share_for_all_trip  183412 non-null  category      \n",
      "dtypes: Int64(3), category(3), datetime64[ns](2), float64(4), int64(2), object(2)\n",
      "memory usage: 17.8+ MB\n"
     ]
    }
   ],
   "source": [
    "fordgobike_clean.info()"
   ]
  },
  {
   "cell_type": "markdown",
   "metadata": {
    "slideshow": {
     "slide_type": "skip"
    }
   },
   "source": [
    "Null Values"
   ]
  },
  {
   "cell_type": "code",
   "execution_count": 23,
   "metadata": {
    "slideshow": {
     "slide_type": "skip"
    }
   },
   "outputs": [
    {
     "name": "stdout",
     "output_type": "stream",
     "text": [
      "<class 'pandas.core.frame.DataFrame'>\n",
      "Int64Index: 197 entries, 475 to 181201\n",
      "Data columns (total 16 columns):\n",
      " #   Column                   Non-Null Count  Dtype         \n",
      "---  ------                   --------------  -----         \n",
      " 0   duration_sec             197 non-null    int64         \n",
      " 1   start_time               197 non-null    datetime64[ns]\n",
      " 2   end_time                 197 non-null    datetime64[ns]\n",
      " 3   start_station_id         0 non-null      Int64         \n",
      " 4   start_station_name       0 non-null      object        \n",
      " 5   start_station_latitude   197 non-null    float64       \n",
      " 6   start_station_longitude  197 non-null    float64       \n",
      " 7   end_station_id           0 non-null      Int64         \n",
      " 8   end_station_name         0 non-null      object        \n",
      " 9   end_station_latitude     197 non-null    float64       \n",
      " 10  end_station_longitude    197 non-null    float64       \n",
      " 11  bike_id                  197 non-null    int64         \n",
      " 12  user_type                197 non-null    category      \n",
      " 13  member_birth_year        195 non-null    Int64         \n",
      " 14  member_gender            195 non-null    category      \n",
      " 15  bike_share_for_all_trip  197 non-null    category      \n",
      "dtypes: Int64(3), category(3), datetime64[ns](2), float64(4), int64(2), object(2)\n",
      "memory usage: 21.3+ KB\n"
     ]
    }
   ],
   "source": [
    "fordgobike_clean[fordgobike_clean.start_station_id.isnull()].info()"
   ]
  },
  {
   "cell_type": "code",
   "execution_count": 27,
   "metadata": {
    "slideshow": {
     "slide_type": "skip"
    }
   },
   "outputs": [
    {
     "name": "stdout",
     "output_type": "stream",
     "text": [
      "<class 'pandas.core.frame.DataFrame'>\n",
      "Int64Index: 197 entries, 475 to 181201\n",
      "Data columns (total 16 columns):\n",
      " #   Column                   Non-Null Count  Dtype         \n",
      "---  ------                   --------------  -----         \n",
      " 0   duration_sec             197 non-null    int64         \n",
      " 1   start_time               197 non-null    datetime64[ns]\n",
      " 2   end_time                 197 non-null    datetime64[ns]\n",
      " 3   start_station_id         0 non-null      Int64         \n",
      " 4   start_station_name       0 non-null      object        \n",
      " 5   start_station_latitude   197 non-null    float64       \n",
      " 6   start_station_longitude  197 non-null    float64       \n",
      " 7   end_station_id           0 non-null      Int64         \n",
      " 8   end_station_name         0 non-null      object        \n",
      " 9   end_station_latitude     197 non-null    float64       \n",
      " 10  end_station_longitude    197 non-null    float64       \n",
      " 11  bike_id                  197 non-null    int64         \n",
      " 12  user_type                197 non-null    category      \n",
      " 13  member_birth_year        195 non-null    Int64         \n",
      " 14  member_gender            195 non-null    category      \n",
      " 15  bike_share_for_all_trip  197 non-null    category      \n",
      "dtypes: Int64(3), category(3), datetime64[ns](2), float64(4), int64(2), object(2)\n",
      "memory usage: 21.3+ KB\n"
     ]
    }
   ],
   "source": [
    "fordgobike_clean[fordgobike_clean.end_station_id.isnull()].info()"
   ]
  },
  {
   "cell_type": "code",
   "execution_count": 28,
   "metadata": {
    "slideshow": {
     "slide_type": "skip"
    }
   },
   "outputs": [],
   "source": [
    "missing_station = fordgobike_clean[(fordgobike_clean.start_station_id.isnull()) & (fordgobike_clean.end_station_id.isnull())]"
   ]
  },
  {
   "cell_type": "code",
   "execution_count": 29,
   "metadata": {
    "slideshow": {
     "slide_type": "skip"
    }
   },
   "outputs": [
    {
     "data": {
      "text/plain": [
       "37.41    101\n",
       "37.40     63\n",
       "37.42     21\n",
       "37.39     11\n",
       "37.38      1\n",
       "Name: start_station_latitude, dtype: int64"
      ]
     },
     "execution_count": 29,
     "metadata": {},
     "output_type": "execute_result"
    }
   ],
   "source": [
    "missing_station.start_station_latitude.value_counts()"
   ]
  },
  {
   "cell_type": "code",
   "execution_count": 34,
   "metadata": {
    "slideshow": {
     "slide_type": "skip"
    }
   },
   "outputs": [
    {
     "data": {
      "text/plain": [
       "37.41    98\n",
       "37.40    65\n",
       "37.42    18\n",
       "37.39    13\n",
       "37.38     2\n",
       "37.43     1\n",
       "Name: end_station_latitude, dtype: int64"
      ]
     },
     "execution_count": 34,
     "metadata": {},
     "output_type": "execute_result"
    }
   ],
   "source": [
    "missing_station.end_station_latitude.value_counts()"
   ]
  },
  {
   "cell_type": "code",
   "execution_count": 32,
   "metadata": {
    "slideshow": {
     "slide_type": "skip"
    }
   },
   "outputs": [
    {
     "data": {
      "text/plain": [
       "-121.94    55\n",
       "-121.93    50\n",
       "-121.96    46\n",
       "-121.95    33\n",
       "-121.92    11\n",
       "-121.98     2\n",
       "Name: end_station_longitude, dtype: int64"
      ]
     },
     "execution_count": 32,
     "metadata": {},
     "output_type": "execute_result"
    }
   ],
   "source": [
    "missing_station.end_station_longitude.value_counts()"
   ]
  },
  {
   "cell_type": "code",
   "execution_count": 35,
   "metadata": {
    "slideshow": {
     "slide_type": "skip"
    }
   },
   "outputs": [
    {
     "data": {
      "text/plain": [
       "-121.94    55\n",
       "-121.93    50\n",
       "-121.96    46\n",
       "-121.95    33\n",
       "-121.92    11\n",
       "-121.98     2\n",
       "Name: end_station_longitude, dtype: int64"
      ]
     },
     "execution_count": 35,
     "metadata": {},
     "output_type": "execute_result"
    }
   ],
   "source": [
    "missing_station.end_station_longitude.value_counts()"
   ]
  },
  {
   "cell_type": "code",
   "execution_count": 33,
   "metadata": {
    "slideshow": {
     "slide_type": "skip"
    }
   },
   "outputs": [
    {
     "data": {
      "text/html": [
       "<div>\n",
       "<style scoped>\n",
       "    .dataframe tbody tr th:only-of-type {\n",
       "        vertical-align: middle;\n",
       "    }\n",
       "\n",
       "    .dataframe tbody tr th {\n",
       "        vertical-align: top;\n",
       "    }\n",
       "\n",
       "    .dataframe thead th {\n",
       "        text-align: right;\n",
       "    }\n",
       "</style>\n",
       "<table border=\"1\" class=\"dataframe\">\n",
       "  <thead>\n",
       "    <tr style=\"text-align: right;\">\n",
       "      <th></th>\n",
       "      <th>duration_sec</th>\n",
       "      <th>start_time</th>\n",
       "      <th>end_time</th>\n",
       "      <th>start_station_id</th>\n",
       "      <th>start_station_name</th>\n",
       "      <th>start_station_latitude</th>\n",
       "      <th>start_station_longitude</th>\n",
       "      <th>end_station_id</th>\n",
       "      <th>end_station_name</th>\n",
       "      <th>end_station_latitude</th>\n",
       "      <th>end_station_longitude</th>\n",
       "      <th>bike_id</th>\n",
       "      <th>user_type</th>\n",
       "      <th>member_birth_year</th>\n",
       "      <th>member_gender</th>\n",
       "      <th>bike_share_for_all_trip</th>\n",
       "    </tr>\n",
       "  </thead>\n",
       "  <tbody>\n",
       "    <tr>\n",
       "      <th>8783</th>\n",
       "      <td>883</td>\n",
       "      <td>2019-02-28 07:58:07.372</td>\n",
       "      <td>2019-02-28 08:12:51.276</td>\n",
       "      <td>&lt;NA&gt;</td>\n",
       "      <td>NaN</td>\n",
       "      <td>37.41</td>\n",
       "      <td>-121.96</td>\n",
       "      <td>&lt;NA&gt;</td>\n",
       "      <td>NaN</td>\n",
       "      <td>37.40</td>\n",
       "      <td>-121.94</td>\n",
       "      <td>4211</td>\n",
       "      <td>Subscriber</td>\n",
       "      <td>1980</td>\n",
       "      <td>Male</td>\n",
       "      <td>No</td>\n",
       "    </tr>\n",
       "    <tr>\n",
       "      <th>15298</th>\n",
       "      <td>890</td>\n",
       "      <td>2019-02-27 09:33:32.572</td>\n",
       "      <td>2019-02-27 09:48:23.075</td>\n",
       "      <td>&lt;NA&gt;</td>\n",
       "      <td>NaN</td>\n",
       "      <td>37.41</td>\n",
       "      <td>-121.96</td>\n",
       "      <td>&lt;NA&gt;</td>\n",
       "      <td>NaN</td>\n",
       "      <td>37.41</td>\n",
       "      <td>-121.94</td>\n",
       "      <td>4211</td>\n",
       "      <td>Subscriber</td>\n",
       "      <td>1999</td>\n",
       "      <td>Female</td>\n",
       "      <td>No</td>\n",
       "    </tr>\n",
       "    <tr>\n",
       "      <th>16746</th>\n",
       "      <td>1005</td>\n",
       "      <td>2019-02-27 08:00:53.528</td>\n",
       "      <td>2019-02-27 08:17:38.534</td>\n",
       "      <td>&lt;NA&gt;</td>\n",
       "      <td>NaN</td>\n",
       "      <td>37.41</td>\n",
       "      <td>-121.96</td>\n",
       "      <td>&lt;NA&gt;</td>\n",
       "      <td>NaN</td>\n",
       "      <td>37.40</td>\n",
       "      <td>-121.94</td>\n",
       "      <td>4091</td>\n",
       "      <td>Subscriber</td>\n",
       "      <td>1980</td>\n",
       "      <td>Male</td>\n",
       "      <td>No</td>\n",
       "    </tr>\n",
       "    <tr>\n",
       "      <th>22306</th>\n",
       "      <td>1123</td>\n",
       "      <td>2019-02-26 08:05:08.632</td>\n",
       "      <td>2019-02-26 08:23:52.033</td>\n",
       "      <td>&lt;NA&gt;</td>\n",
       "      <td>NaN</td>\n",
       "      <td>37.41</td>\n",
       "      <td>-121.96</td>\n",
       "      <td>&lt;NA&gt;</td>\n",
       "      <td>NaN</td>\n",
       "      <td>37.40</td>\n",
       "      <td>-121.94</td>\n",
       "      <td>4239</td>\n",
       "      <td>Subscriber</td>\n",
       "      <td>1980</td>\n",
       "      <td>Male</td>\n",
       "      <td>No</td>\n",
       "    </tr>\n",
       "    <tr>\n",
       "      <th>24429</th>\n",
       "      <td>806</td>\n",
       "      <td>2019-02-25 18:11:33.034</td>\n",
       "      <td>2019-02-25 18:24:59.531</td>\n",
       "      <td>&lt;NA&gt;</td>\n",
       "      <td>NaN</td>\n",
       "      <td>37.41</td>\n",
       "      <td>-121.94</td>\n",
       "      <td>&lt;NA&gt;</td>\n",
       "      <td>NaN</td>\n",
       "      <td>37.41</td>\n",
       "      <td>-121.94</td>\n",
       "      <td>4189</td>\n",
       "      <td>Subscriber</td>\n",
       "      <td>1994</td>\n",
       "      <td>Female</td>\n",
       "      <td>Yes</td>\n",
       "    </tr>\n",
       "    <tr>\n",
       "      <th>27544</th>\n",
       "      <td>743</td>\n",
       "      <td>2019-02-25 09:26:04.632</td>\n",
       "      <td>2019-02-25 09:38:28.533</td>\n",
       "      <td>&lt;NA&gt;</td>\n",
       "      <td>NaN</td>\n",
       "      <td>37.41</td>\n",
       "      <td>-121.96</td>\n",
       "      <td>&lt;NA&gt;</td>\n",
       "      <td>NaN</td>\n",
       "      <td>37.41</td>\n",
       "      <td>-121.94</td>\n",
       "      <td>4091</td>\n",
       "      <td>Subscriber</td>\n",
       "      <td>1999</td>\n",
       "      <td>Female</td>\n",
       "      <td>No</td>\n",
       "    </tr>\n",
       "    <tr>\n",
       "      <th>28942</th>\n",
       "      <td>1035</td>\n",
       "      <td>2019-02-25 08:01:32.069</td>\n",
       "      <td>2019-02-25 08:18:48.067</td>\n",
       "      <td>&lt;NA&gt;</td>\n",
       "      <td>NaN</td>\n",
       "      <td>37.41</td>\n",
       "      <td>-121.96</td>\n",
       "      <td>&lt;NA&gt;</td>\n",
       "      <td>NaN</td>\n",
       "      <td>37.40</td>\n",
       "      <td>-121.94</td>\n",
       "      <td>4239</td>\n",
       "      <td>Subscriber</td>\n",
       "      <td>1980</td>\n",
       "      <td>Male</td>\n",
       "      <td>No</td>\n",
       "    </tr>\n",
       "    <tr>\n",
       "      <th>30286</th>\n",
       "      <td>600</td>\n",
       "      <td>2019-02-24 20:48:06.426</td>\n",
       "      <td>2019-02-24 20:58:07.093</td>\n",
       "      <td>&lt;NA&gt;</td>\n",
       "      <td>NaN</td>\n",
       "      <td>37.40</td>\n",
       "      <td>-121.93</td>\n",
       "      <td>&lt;NA&gt;</td>\n",
       "      <td>NaN</td>\n",
       "      <td>37.41</td>\n",
       "      <td>-121.94</td>\n",
       "      <td>4095</td>\n",
       "      <td>Subscriber</td>\n",
       "      <td>1991</td>\n",
       "      <td>Male</td>\n",
       "      <td>No</td>\n",
       "    </tr>\n",
       "    <tr>\n",
       "      <th>30726</th>\n",
       "      <td>2447</td>\n",
       "      <td>2019-02-24 18:04:43.530</td>\n",
       "      <td>2019-02-24 18:45:31.466</td>\n",
       "      <td>&lt;NA&gt;</td>\n",
       "      <td>NaN</td>\n",
       "      <td>37.41</td>\n",
       "      <td>-121.95</td>\n",
       "      <td>&lt;NA&gt;</td>\n",
       "      <td>NaN</td>\n",
       "      <td>37.40</td>\n",
       "      <td>-121.94</td>\n",
       "      <td>4141</td>\n",
       "      <td>Subscriber</td>\n",
       "      <td>1977</td>\n",
       "      <td>Male</td>\n",
       "      <td>No</td>\n",
       "    </tr>\n",
       "    <tr>\n",
       "      <th>43351</th>\n",
       "      <td>853</td>\n",
       "      <td>2019-02-22 16:34:41.176</td>\n",
       "      <td>2019-02-22 16:48:55.071</td>\n",
       "      <td>&lt;NA&gt;</td>\n",
       "      <td>NaN</td>\n",
       "      <td>37.40</td>\n",
       "      <td>-121.92</td>\n",
       "      <td>&lt;NA&gt;</td>\n",
       "      <td>NaN</td>\n",
       "      <td>37.41</td>\n",
       "      <td>-121.94</td>\n",
       "      <td>4197</td>\n",
       "      <td>Subscriber</td>\n",
       "      <td>1976</td>\n",
       "      <td>Male</td>\n",
       "      <td>No</td>\n",
       "    </tr>\n",
       "    <tr>\n",
       "      <th>48146</th>\n",
       "      <td>769</td>\n",
       "      <td>2019-02-22 08:06:19.670</td>\n",
       "      <td>2019-02-22 08:19:08.964</td>\n",
       "      <td>&lt;NA&gt;</td>\n",
       "      <td>NaN</td>\n",
       "      <td>37.41</td>\n",
       "      <td>-121.96</td>\n",
       "      <td>&lt;NA&gt;</td>\n",
       "      <td>NaN</td>\n",
       "      <td>37.40</td>\n",
       "      <td>-121.94</td>\n",
       "      <td>4162</td>\n",
       "      <td>Subscriber</td>\n",
       "      <td>1980</td>\n",
       "      <td>Male</td>\n",
       "      <td>No</td>\n",
       "    </tr>\n",
       "    <tr>\n",
       "      <th>49820</th>\n",
       "      <td>743</td>\n",
       "      <td>2019-02-21 20:18:41.694</td>\n",
       "      <td>2019-02-21 20:31:05.228</td>\n",
       "      <td>&lt;NA&gt;</td>\n",
       "      <td>NaN</td>\n",
       "      <td>37.41</td>\n",
       "      <td>-121.94</td>\n",
       "      <td>&lt;NA&gt;</td>\n",
       "      <td>NaN</td>\n",
       "      <td>37.41</td>\n",
       "      <td>-121.94</td>\n",
       "      <td>4197</td>\n",
       "      <td>Customer</td>\n",
       "      <td>1984</td>\n",
       "      <td>Male</td>\n",
       "      <td>No</td>\n",
       "    </tr>\n",
       "    <tr>\n",
       "      <th>49989</th>\n",
       "      <td>598</td>\n",
       "      <td>2019-02-21 19:57:57.187</td>\n",
       "      <td>2019-02-21 20:07:55.285</td>\n",
       "      <td>&lt;NA&gt;</td>\n",
       "      <td>NaN</td>\n",
       "      <td>37.40</td>\n",
       "      <td>-121.93</td>\n",
       "      <td>&lt;NA&gt;</td>\n",
       "      <td>NaN</td>\n",
       "      <td>37.41</td>\n",
       "      <td>-121.94</td>\n",
       "      <td>4095</td>\n",
       "      <td>Subscriber</td>\n",
       "      <td>1991</td>\n",
       "      <td>Male</td>\n",
       "      <td>No</td>\n",
       "    </tr>\n",
       "    <tr>\n",
       "      <th>54017</th>\n",
       "      <td>1078</td>\n",
       "      <td>2019-02-21 13:53:12.273</td>\n",
       "      <td>2019-02-21 14:11:11.075</td>\n",
       "      <td>&lt;NA&gt;</td>\n",
       "      <td>NaN</td>\n",
       "      <td>37.40</td>\n",
       "      <td>-121.93</td>\n",
       "      <td>&lt;NA&gt;</td>\n",
       "      <td>NaN</td>\n",
       "      <td>37.41</td>\n",
       "      <td>-121.94</td>\n",
       "      <td>4162</td>\n",
       "      <td>Customer</td>\n",
       "      <td>1990</td>\n",
       "      <td>Female</td>\n",
       "      <td>No</td>\n",
       "    </tr>\n",
       "    <tr>\n",
       "      <th>59280</th>\n",
       "      <td>740</td>\n",
       "      <td>2019-02-20 20:35:21.011</td>\n",
       "      <td>2019-02-20 20:47:41.562</td>\n",
       "      <td>&lt;NA&gt;</td>\n",
       "      <td>NaN</td>\n",
       "      <td>37.41</td>\n",
       "      <td>-121.96</td>\n",
       "      <td>&lt;NA&gt;</td>\n",
       "      <td>NaN</td>\n",
       "      <td>37.41</td>\n",
       "      <td>-121.94</td>\n",
       "      <td>4239</td>\n",
       "      <td>Customer</td>\n",
       "      <td>&lt;NA&gt;</td>\n",
       "      <td>NaN</td>\n",
       "      <td>No</td>\n",
       "    </tr>\n",
       "    <tr>\n",
       "      <th>62466</th>\n",
       "      <td>771</td>\n",
       "      <td>2019-02-20 16:47:37.368</td>\n",
       "      <td>2019-02-20 17:00:28.471</td>\n",
       "      <td>&lt;NA&gt;</td>\n",
       "      <td>NaN</td>\n",
       "      <td>37.40</td>\n",
       "      <td>-121.92</td>\n",
       "      <td>&lt;NA&gt;</td>\n",
       "      <td>NaN</td>\n",
       "      <td>37.41</td>\n",
       "      <td>-121.94</td>\n",
       "      <td>4197</td>\n",
       "      <td>Subscriber</td>\n",
       "      <td>1976</td>\n",
       "      <td>Male</td>\n",
       "      <td>No</td>\n",
       "    </tr>\n",
       "    <tr>\n",
       "      <th>63577</th>\n",
       "      <td>610</td>\n",
       "      <td>2019-02-20 14:28:13.530</td>\n",
       "      <td>2019-02-20 14:38:24.431</td>\n",
       "      <td>&lt;NA&gt;</td>\n",
       "      <td>NaN</td>\n",
       "      <td>37.40</td>\n",
       "      <td>-121.93</td>\n",
       "      <td>&lt;NA&gt;</td>\n",
       "      <td>NaN</td>\n",
       "      <td>37.40</td>\n",
       "      <td>-121.94</td>\n",
       "      <td>4250</td>\n",
       "      <td>Customer</td>\n",
       "      <td>1990</td>\n",
       "      <td>Female</td>\n",
       "      <td>No</td>\n",
       "    </tr>\n",
       "    <tr>\n",
       "      <th>63585</th>\n",
       "      <td>552</td>\n",
       "      <td>2019-02-20 14:28:13.830</td>\n",
       "      <td>2019-02-20 14:37:26.529</td>\n",
       "      <td>&lt;NA&gt;</td>\n",
       "      <td>NaN</td>\n",
       "      <td>37.41</td>\n",
       "      <td>-121.95</td>\n",
       "      <td>&lt;NA&gt;</td>\n",
       "      <td>NaN</td>\n",
       "      <td>37.41</td>\n",
       "      <td>-121.94</td>\n",
       "      <td>4168</td>\n",
       "      <td>Customer</td>\n",
       "      <td>1960</td>\n",
       "      <td>Male</td>\n",
       "      <td>No</td>\n",
       "    </tr>\n",
       "    <tr>\n",
       "      <th>64459</th>\n",
       "      <td>175</td>\n",
       "      <td>2019-02-20 12:05:52.168</td>\n",
       "      <td>2019-02-20 12:08:47.258</td>\n",
       "      <td>&lt;NA&gt;</td>\n",
       "      <td>NaN</td>\n",
       "      <td>37.41</td>\n",
       "      <td>-121.94</td>\n",
       "      <td>&lt;NA&gt;</td>\n",
       "      <td>NaN</td>\n",
       "      <td>37.41</td>\n",
       "      <td>-121.94</td>\n",
       "      <td>4162</td>\n",
       "      <td>Customer</td>\n",
       "      <td>1997</td>\n",
       "      <td>Other</td>\n",
       "      <td>No</td>\n",
       "    </tr>\n",
       "    <tr>\n",
       "      <th>65857</th>\n",
       "      <td>857</td>\n",
       "      <td>2019-02-20 09:05:31.072</td>\n",
       "      <td>2019-02-20 09:19:48.374</td>\n",
       "      <td>&lt;NA&gt;</td>\n",
       "      <td>NaN</td>\n",
       "      <td>37.41</td>\n",
       "      <td>-121.96</td>\n",
       "      <td>&lt;NA&gt;</td>\n",
       "      <td>NaN</td>\n",
       "      <td>37.41</td>\n",
       "      <td>-121.94</td>\n",
       "      <td>4162</td>\n",
       "      <td>Subscriber</td>\n",
       "      <td>1999</td>\n",
       "      <td>Female</td>\n",
       "      <td>No</td>\n",
       "    </tr>\n",
       "    <tr>\n",
       "      <th>69399</th>\n",
       "      <td>2020</td>\n",
       "      <td>2019-02-19 19:10:11.072</td>\n",
       "      <td>2019-02-19 19:43:51.285</td>\n",
       "      <td>&lt;NA&gt;</td>\n",
       "      <td>NaN</td>\n",
       "      <td>37.40</td>\n",
       "      <td>-121.94</td>\n",
       "      <td>&lt;NA&gt;</td>\n",
       "      <td>NaN</td>\n",
       "      <td>37.40</td>\n",
       "      <td>-121.94</td>\n",
       "      <td>4197</td>\n",
       "      <td>Customer</td>\n",
       "      <td>1982</td>\n",
       "      <td>Male</td>\n",
       "      <td>No</td>\n",
       "    </tr>\n",
       "    <tr>\n",
       "      <th>72429</th>\n",
       "      <td>660</td>\n",
       "      <td>2019-02-19 16:22:35.288</td>\n",
       "      <td>2019-02-19 16:33:35.580</td>\n",
       "      <td>&lt;NA&gt;</td>\n",
       "      <td>NaN</td>\n",
       "      <td>37.40</td>\n",
       "      <td>-121.93</td>\n",
       "      <td>&lt;NA&gt;</td>\n",
       "      <td>NaN</td>\n",
       "      <td>37.41</td>\n",
       "      <td>-121.94</td>\n",
       "      <td>4283</td>\n",
       "      <td>Customer</td>\n",
       "      <td>1996</td>\n",
       "      <td>Male</td>\n",
       "      <td>No</td>\n",
       "    </tr>\n",
       "    <tr>\n",
       "      <th>72916</th>\n",
       "      <td>1741</td>\n",
       "      <td>2019-02-19 15:01:18.291</td>\n",
       "      <td>2019-02-19 15:30:19.691</td>\n",
       "      <td>&lt;NA&gt;</td>\n",
       "      <td>NaN</td>\n",
       "      <td>37.39</td>\n",
       "      <td>-121.92</td>\n",
       "      <td>&lt;NA&gt;</td>\n",
       "      <td>NaN</td>\n",
       "      <td>37.40</td>\n",
       "      <td>-121.94</td>\n",
       "      <td>4197</td>\n",
       "      <td>Customer</td>\n",
       "      <td>1985</td>\n",
       "      <td>Female</td>\n",
       "      <td>No</td>\n",
       "    </tr>\n",
       "    <tr>\n",
       "      <th>74009</th>\n",
       "      <td>168</td>\n",
       "      <td>2019-02-19 11:59:02.572</td>\n",
       "      <td>2019-02-19 12:01:51.271</td>\n",
       "      <td>&lt;NA&gt;</td>\n",
       "      <td>NaN</td>\n",
       "      <td>37.42</td>\n",
       "      <td>-121.94</td>\n",
       "      <td>&lt;NA&gt;</td>\n",
       "      <td>NaN</td>\n",
       "      <td>37.42</td>\n",
       "      <td>-121.94</td>\n",
       "      <td>4162</td>\n",
       "      <td>Customer</td>\n",
       "      <td>1997</td>\n",
       "      <td>Other</td>\n",
       "      <td>No</td>\n",
       "    </tr>\n",
       "    <tr>\n",
       "      <th>76838</th>\n",
       "      <td>700</td>\n",
       "      <td>2019-02-19 07:52:54.683</td>\n",
       "      <td>2019-02-19 08:04:34.886</td>\n",
       "      <td>&lt;NA&gt;</td>\n",
       "      <td>NaN</td>\n",
       "      <td>37.40</td>\n",
       "      <td>-121.92</td>\n",
       "      <td>&lt;NA&gt;</td>\n",
       "      <td>NaN</td>\n",
       "      <td>37.40</td>\n",
       "      <td>-121.94</td>\n",
       "      <td>4250</td>\n",
       "      <td>Customer</td>\n",
       "      <td>1990</td>\n",
       "      <td>Male</td>\n",
       "      <td>No</td>\n",
       "    </tr>\n",
       "    <tr>\n",
       "      <th>78220</th>\n",
       "      <td>1206</td>\n",
       "      <td>2019-02-18 20:10:53.985</td>\n",
       "      <td>2019-02-18 20:31:00.389</td>\n",
       "      <td>&lt;NA&gt;</td>\n",
       "      <td>NaN</td>\n",
       "      <td>37.41</td>\n",
       "      <td>-121.94</td>\n",
       "      <td>&lt;NA&gt;</td>\n",
       "      <td>NaN</td>\n",
       "      <td>37.41</td>\n",
       "      <td>-121.94</td>\n",
       "      <td>4283</td>\n",
       "      <td>Customer</td>\n",
       "      <td>1991</td>\n",
       "      <td>Male</td>\n",
       "      <td>No</td>\n",
       "    </tr>\n",
       "    <tr>\n",
       "      <th>79544</th>\n",
       "      <td>1558</td>\n",
       "      <td>2019-02-18 17:05:49.888</td>\n",
       "      <td>2019-02-18 17:31:48.525</td>\n",
       "      <td>&lt;NA&gt;</td>\n",
       "      <td>NaN</td>\n",
       "      <td>37.40</td>\n",
       "      <td>-121.94</td>\n",
       "      <td>&lt;NA&gt;</td>\n",
       "      <td>NaN</td>\n",
       "      <td>37.40</td>\n",
       "      <td>-121.94</td>\n",
       "      <td>4245</td>\n",
       "      <td>Customer</td>\n",
       "      <td>1962</td>\n",
       "      <td>Male</td>\n",
       "      <td>No</td>\n",
       "    </tr>\n",
       "    <tr>\n",
       "      <th>79766</th>\n",
       "      <td>718</td>\n",
       "      <td>2019-02-18 16:54:09.988</td>\n",
       "      <td>2019-02-18 17:06:08.689</td>\n",
       "      <td>&lt;NA&gt;</td>\n",
       "      <td>NaN</td>\n",
       "      <td>37.42</td>\n",
       "      <td>-121.96</td>\n",
       "      <td>&lt;NA&gt;</td>\n",
       "      <td>NaN</td>\n",
       "      <td>37.41</td>\n",
       "      <td>-121.94</td>\n",
       "      <td>4095</td>\n",
       "      <td>Subscriber</td>\n",
       "      <td>1987</td>\n",
       "      <td>Male</td>\n",
       "      <td>No</td>\n",
       "    </tr>\n",
       "    <tr>\n",
       "      <th>80046</th>\n",
       "      <td>66</td>\n",
       "      <td>2019-02-18 16:31:23.289</td>\n",
       "      <td>2019-02-18 16:32:30.088</td>\n",
       "      <td>&lt;NA&gt;</td>\n",
       "      <td>NaN</td>\n",
       "      <td>37.41</td>\n",
       "      <td>-121.94</td>\n",
       "      <td>&lt;NA&gt;</td>\n",
       "      <td>NaN</td>\n",
       "      <td>37.41</td>\n",
       "      <td>-121.94</td>\n",
       "      <td>4095</td>\n",
       "      <td>Subscriber</td>\n",
       "      <td>1987</td>\n",
       "      <td>Male</td>\n",
       "      <td>No</td>\n",
       "    </tr>\n",
       "    <tr>\n",
       "      <th>81083</th>\n",
       "      <td>1695</td>\n",
       "      <td>2019-02-18 13:46:39.790</td>\n",
       "      <td>2019-02-18 14:14:55.288</td>\n",
       "      <td>&lt;NA&gt;</td>\n",
       "      <td>NaN</td>\n",
       "      <td>37.40</td>\n",
       "      <td>-121.94</td>\n",
       "      <td>&lt;NA&gt;</td>\n",
       "      <td>NaN</td>\n",
       "      <td>37.40</td>\n",
       "      <td>-121.94</td>\n",
       "      <td>4245</td>\n",
       "      <td>Customer</td>\n",
       "      <td>1986</td>\n",
       "      <td>Female</td>\n",
       "      <td>No</td>\n",
       "    </tr>\n",
       "    <tr>\n",
       "      <th>90873</th>\n",
       "      <td>999</td>\n",
       "      <td>2019-02-16 11:03:21.387</td>\n",
       "      <td>2019-02-16 11:20:01.188</td>\n",
       "      <td>&lt;NA&gt;</td>\n",
       "      <td>NaN</td>\n",
       "      <td>37.42</td>\n",
       "      <td>-121.95</td>\n",
       "      <td>&lt;NA&gt;</td>\n",
       "      <td>NaN</td>\n",
       "      <td>37.41</td>\n",
       "      <td>-121.94</td>\n",
       "      <td>4283</td>\n",
       "      <td>Customer</td>\n",
       "      <td>1992</td>\n",
       "      <td>Female</td>\n",
       "      <td>No</td>\n",
       "    </tr>\n",
       "    <tr>\n",
       "      <th>106166</th>\n",
       "      <td>216</td>\n",
       "      <td>2019-02-13 18:47:22.967</td>\n",
       "      <td>2019-02-13 18:50:59.807</td>\n",
       "      <td>&lt;NA&gt;</td>\n",
       "      <td>NaN</td>\n",
       "      <td>37.42</td>\n",
       "      <td>-121.94</td>\n",
       "      <td>&lt;NA&gt;</td>\n",
       "      <td>NaN</td>\n",
       "      <td>37.42</td>\n",
       "      <td>-121.94</td>\n",
       "      <td>4162</td>\n",
       "      <td>Subscriber</td>\n",
       "      <td>2000</td>\n",
       "      <td>Female</td>\n",
       "      <td>Yes</td>\n",
       "    </tr>\n",
       "    <tr>\n",
       "      <th>107764</th>\n",
       "      <td>473</td>\n",
       "      <td>2019-02-13 14:29:52.566</td>\n",
       "      <td>2019-02-13 14:37:46.407</td>\n",
       "      <td>&lt;NA&gt;</td>\n",
       "      <td>NaN</td>\n",
       "      <td>37.42</td>\n",
       "      <td>-121.94</td>\n",
       "      <td>&lt;NA&gt;</td>\n",
       "      <td>NaN</td>\n",
       "      <td>37.41</td>\n",
       "      <td>-121.94</td>\n",
       "      <td>4162</td>\n",
       "      <td>Customer</td>\n",
       "      <td>1997</td>\n",
       "      <td>Other</td>\n",
       "      <td>No</td>\n",
       "    </tr>\n",
       "    <tr>\n",
       "      <th>110257</th>\n",
       "      <td>100</td>\n",
       "      <td>2019-02-12 18:14:05.926</td>\n",
       "      <td>2019-02-12 18:15:46.667</td>\n",
       "      <td>&lt;NA&gt;</td>\n",
       "      <td>NaN</td>\n",
       "      <td>37.42</td>\n",
       "      <td>-121.94</td>\n",
       "      <td>&lt;NA&gt;</td>\n",
       "      <td>NaN</td>\n",
       "      <td>37.42</td>\n",
       "      <td>-121.94</td>\n",
       "      <td>4162</td>\n",
       "      <td>Subscriber</td>\n",
       "      <td>1999</td>\n",
       "      <td>Male</td>\n",
       "      <td>Yes</td>\n",
       "    </tr>\n",
       "    <tr>\n",
       "      <th>111846</th>\n",
       "      <td>877</td>\n",
       "      <td>2019-02-12 16:29:22.626</td>\n",
       "      <td>2019-02-12 16:43:59.807</td>\n",
       "      <td>&lt;NA&gt;</td>\n",
       "      <td>NaN</td>\n",
       "      <td>37.41</td>\n",
       "      <td>-121.94</td>\n",
       "      <td>&lt;NA&gt;</td>\n",
       "      <td>NaN</td>\n",
       "      <td>37.42</td>\n",
       "      <td>-121.94</td>\n",
       "      <td>4162</td>\n",
       "      <td>Customer</td>\n",
       "      <td>1997</td>\n",
       "      <td>Other</td>\n",
       "      <td>No</td>\n",
       "    </tr>\n",
       "    <tr>\n",
       "      <th>113479</th>\n",
       "      <td>324</td>\n",
       "      <td>2019-02-12 12:05:46.705</td>\n",
       "      <td>2019-02-12 12:11:11.683</td>\n",
       "      <td>&lt;NA&gt;</td>\n",
       "      <td>NaN</td>\n",
       "      <td>37.41</td>\n",
       "      <td>-121.94</td>\n",
       "      <td>&lt;NA&gt;</td>\n",
       "      <td>NaN</td>\n",
       "      <td>37.41</td>\n",
       "      <td>-121.94</td>\n",
       "      <td>4162</td>\n",
       "      <td>Customer</td>\n",
       "      <td>1997</td>\n",
       "      <td>Other</td>\n",
       "      <td>No</td>\n",
       "    </tr>\n",
       "    <tr>\n",
       "      <th>117391</th>\n",
       "      <td>1094</td>\n",
       "      <td>2019-02-11 21:53:17.245</td>\n",
       "      <td>2019-02-11 22:11:31.705</td>\n",
       "      <td>&lt;NA&gt;</td>\n",
       "      <td>NaN</td>\n",
       "      <td>37.40</td>\n",
       "      <td>-121.94</td>\n",
       "      <td>&lt;NA&gt;</td>\n",
       "      <td>NaN</td>\n",
       "      <td>37.40</td>\n",
       "      <td>-121.94</td>\n",
       "      <td>4250</td>\n",
       "      <td>Customer</td>\n",
       "      <td>1990</td>\n",
       "      <td>Male</td>\n",
       "      <td>No</td>\n",
       "    </tr>\n",
       "    <tr>\n",
       "      <th>124236</th>\n",
       "      <td>994</td>\n",
       "      <td>2019-02-11 08:34:14.624</td>\n",
       "      <td>2019-02-11 08:50:48.965</td>\n",
       "      <td>&lt;NA&gt;</td>\n",
       "      <td>NaN</td>\n",
       "      <td>37.41</td>\n",
       "      <td>-121.96</td>\n",
       "      <td>&lt;NA&gt;</td>\n",
       "      <td>NaN</td>\n",
       "      <td>37.41</td>\n",
       "      <td>-121.94</td>\n",
       "      <td>4141</td>\n",
       "      <td>Subscriber</td>\n",
       "      <td>1999</td>\n",
       "      <td>Male</td>\n",
       "      <td>No</td>\n",
       "    </tr>\n",
       "    <tr>\n",
       "      <th>125220</th>\n",
       "      <td>587</td>\n",
       "      <td>2019-02-11 07:45:08.217</td>\n",
       "      <td>2019-02-11 07:54:55.522</td>\n",
       "      <td>&lt;NA&gt;</td>\n",
       "      <td>NaN</td>\n",
       "      <td>37.40</td>\n",
       "      <td>-121.93</td>\n",
       "      <td>&lt;NA&gt;</td>\n",
       "      <td>NaN</td>\n",
       "      <td>37.40</td>\n",
       "      <td>-121.94</td>\n",
       "      <td>4245</td>\n",
       "      <td>Customer</td>\n",
       "      <td>1990</td>\n",
       "      <td>Male</td>\n",
       "      <td>No</td>\n",
       "    </tr>\n",
       "    <tr>\n",
       "      <th>127820</th>\n",
       "      <td>936</td>\n",
       "      <td>2019-02-10 14:42:20.473</td>\n",
       "      <td>2019-02-10 14:57:57.216</td>\n",
       "      <td>&lt;NA&gt;</td>\n",
       "      <td>NaN</td>\n",
       "      <td>37.42</td>\n",
       "      <td>-121.95</td>\n",
       "      <td>&lt;NA&gt;</td>\n",
       "      <td>NaN</td>\n",
       "      <td>37.41</td>\n",
       "      <td>-121.94</td>\n",
       "      <td>4165</td>\n",
       "      <td>Subscriber</td>\n",
       "      <td>1994</td>\n",
       "      <td>Male</td>\n",
       "      <td>No</td>\n",
       "    </tr>\n",
       "    <tr>\n",
       "      <th>128021</th>\n",
       "      <td>1510</td>\n",
       "      <td>2019-02-10 13:58:44.755</td>\n",
       "      <td>2019-02-10 14:23:55.697</td>\n",
       "      <td>&lt;NA&gt;</td>\n",
       "      <td>NaN</td>\n",
       "      <td>37.40</td>\n",
       "      <td>-121.94</td>\n",
       "      <td>&lt;NA&gt;</td>\n",
       "      <td>NaN</td>\n",
       "      <td>37.40</td>\n",
       "      <td>-121.94</td>\n",
       "      <td>4174</td>\n",
       "      <td>Customer</td>\n",
       "      <td>1989</td>\n",
       "      <td>Male</td>\n",
       "      <td>No</td>\n",
       "    </tr>\n",
       "    <tr>\n",
       "      <th>128584</th>\n",
       "      <td>1722</td>\n",
       "      <td>2019-02-10 12:34:36.259</td>\n",
       "      <td>2019-02-10 13:03:18.466</td>\n",
       "      <td>&lt;NA&gt;</td>\n",
       "      <td>NaN</td>\n",
       "      <td>37.41</td>\n",
       "      <td>-121.95</td>\n",
       "      <td>&lt;NA&gt;</td>\n",
       "      <td>NaN</td>\n",
       "      <td>37.38</td>\n",
       "      <td>-121.94</td>\n",
       "      <td>4093</td>\n",
       "      <td>Subscriber</td>\n",
       "      <td>1988</td>\n",
       "      <td>Male</td>\n",
       "      <td>No</td>\n",
       "    </tr>\n",
       "    <tr>\n",
       "      <th>129141</th>\n",
       "      <td>3633</td>\n",
       "      <td>2019-02-10 10:32:42.493</td>\n",
       "      <td>2019-02-10 11:33:16.058</td>\n",
       "      <td>&lt;NA&gt;</td>\n",
       "      <td>NaN</td>\n",
       "      <td>37.40</td>\n",
       "      <td>-121.94</td>\n",
       "      <td>&lt;NA&gt;</td>\n",
       "      <td>NaN</td>\n",
       "      <td>37.40</td>\n",
       "      <td>-121.94</td>\n",
       "      <td>4174</td>\n",
       "      <td>Subscriber</td>\n",
       "      <td>1977</td>\n",
       "      <td>Male</td>\n",
       "      <td>No</td>\n",
       "    </tr>\n",
       "    <tr>\n",
       "      <th>130538</th>\n",
       "      <td>3438</td>\n",
       "      <td>2019-02-09 16:10:42.108</td>\n",
       "      <td>2019-02-09 17:08:00.909</td>\n",
       "      <td>&lt;NA&gt;</td>\n",
       "      <td>NaN</td>\n",
       "      <td>37.40</td>\n",
       "      <td>-121.94</td>\n",
       "      <td>&lt;NA&gt;</td>\n",
       "      <td>NaN</td>\n",
       "      <td>37.40</td>\n",
       "      <td>-121.94</td>\n",
       "      <td>4174</td>\n",
       "      <td>Subscriber</td>\n",
       "      <td>1977</td>\n",
       "      <td>Male</td>\n",
       "      <td>No</td>\n",
       "    </tr>\n",
       "    <tr>\n",
       "      <th>131502</th>\n",
       "      <td>795</td>\n",
       "      <td>2019-02-09 12:10:29.164</td>\n",
       "      <td>2019-02-09 12:23:44.706</td>\n",
       "      <td>&lt;NA&gt;</td>\n",
       "      <td>NaN</td>\n",
       "      <td>37.40</td>\n",
       "      <td>-121.94</td>\n",
       "      <td>&lt;NA&gt;</td>\n",
       "      <td>NaN</td>\n",
       "      <td>37.40</td>\n",
       "      <td>-121.94</td>\n",
       "      <td>4174</td>\n",
       "      <td>Customer</td>\n",
       "      <td>1988</td>\n",
       "      <td>Female</td>\n",
       "      <td>No</td>\n",
       "    </tr>\n",
       "    <tr>\n",
       "      <th>132593</th>\n",
       "      <td>439</td>\n",
       "      <td>2019-02-08 23:52:25.847</td>\n",
       "      <td>2019-02-08 23:59:44.927</td>\n",
       "      <td>&lt;NA&gt;</td>\n",
       "      <td>NaN</td>\n",
       "      <td>37.42</td>\n",
       "      <td>-121.95</td>\n",
       "      <td>&lt;NA&gt;</td>\n",
       "      <td>NaN</td>\n",
       "      <td>37.41</td>\n",
       "      <td>-121.94</td>\n",
       "      <td>4162</td>\n",
       "      <td>Customer</td>\n",
       "      <td>1981</td>\n",
       "      <td>Male</td>\n",
       "      <td>No</td>\n",
       "    </tr>\n",
       "    <tr>\n",
       "      <th>142719</th>\n",
       "      <td>2031</td>\n",
       "      <td>2019-02-07 16:23:38.568</td>\n",
       "      <td>2019-02-07 16:57:29.745</td>\n",
       "      <td>&lt;NA&gt;</td>\n",
       "      <td>NaN</td>\n",
       "      <td>37.41</td>\n",
       "      <td>-121.98</td>\n",
       "      <td>&lt;NA&gt;</td>\n",
       "      <td>NaN</td>\n",
       "      <td>37.41</td>\n",
       "      <td>-121.94</td>\n",
       "      <td>4125</td>\n",
       "      <td>Customer</td>\n",
       "      <td>1989</td>\n",
       "      <td>Male</td>\n",
       "      <td>No</td>\n",
       "    </tr>\n",
       "    <tr>\n",
       "      <th>152178</th>\n",
       "      <td>366</td>\n",
       "      <td>2019-02-06 16:20:37.102</td>\n",
       "      <td>2019-02-06 16:26:43.165</td>\n",
       "      <td>&lt;NA&gt;</td>\n",
       "      <td>NaN</td>\n",
       "      <td>37.41</td>\n",
       "      <td>-121.95</td>\n",
       "      <td>&lt;NA&gt;</td>\n",
       "      <td>NaN</td>\n",
       "      <td>37.42</td>\n",
       "      <td>-121.94</td>\n",
       "      <td>4157</td>\n",
       "      <td>Subscriber</td>\n",
       "      <td>2000</td>\n",
       "      <td>Female</td>\n",
       "      <td>Yes</td>\n",
       "    </tr>\n",
       "    <tr>\n",
       "      <th>152648</th>\n",
       "      <td>660</td>\n",
       "      <td>2019-02-06 15:07:33.960</td>\n",
       "      <td>2019-02-06 15:18:34.562</td>\n",
       "      <td>&lt;NA&gt;</td>\n",
       "      <td>NaN</td>\n",
       "      <td>37.40</td>\n",
       "      <td>-121.92</td>\n",
       "      <td>&lt;NA&gt;</td>\n",
       "      <td>NaN</td>\n",
       "      <td>37.41</td>\n",
       "      <td>-121.94</td>\n",
       "      <td>4249</td>\n",
       "      <td>Subscriber</td>\n",
       "      <td>1976</td>\n",
       "      <td>Male</td>\n",
       "      <td>No</td>\n",
       "    </tr>\n",
       "    <tr>\n",
       "      <th>154695</th>\n",
       "      <td>968</td>\n",
       "      <td>2019-02-06 09:19:56.878</td>\n",
       "      <td>2019-02-06 09:36:05.238</td>\n",
       "      <td>&lt;NA&gt;</td>\n",
       "      <td>NaN</td>\n",
       "      <td>37.41</td>\n",
       "      <td>-121.96</td>\n",
       "      <td>&lt;NA&gt;</td>\n",
       "      <td>NaN</td>\n",
       "      <td>37.41</td>\n",
       "      <td>-121.94</td>\n",
       "      <td>4092</td>\n",
       "      <td>Subscriber</td>\n",
       "      <td>1999</td>\n",
       "      <td>Female</td>\n",
       "      <td>No</td>\n",
       "    </tr>\n",
       "    <tr>\n",
       "      <th>161400</th>\n",
       "      <td>1159</td>\n",
       "      <td>2019-02-05 14:53:30.431</td>\n",
       "      <td>2019-02-05 15:12:49.446</td>\n",
       "      <td>&lt;NA&gt;</td>\n",
       "      <td>NaN</td>\n",
       "      <td>37.40</td>\n",
       "      <td>-121.94</td>\n",
       "      <td>&lt;NA&gt;</td>\n",
       "      <td>NaN</td>\n",
       "      <td>37.40</td>\n",
       "      <td>-121.94</td>\n",
       "      <td>4174</td>\n",
       "      <td>Customer</td>\n",
       "      <td>1986</td>\n",
       "      <td>Male</td>\n",
       "      <td>No</td>\n",
       "    </tr>\n",
       "    <tr>\n",
       "      <th>172481</th>\n",
       "      <td>3791</td>\n",
       "      <td>2019-02-03 14:53:55.947</td>\n",
       "      <td>2019-02-03 15:57:07.086</td>\n",
       "      <td>&lt;NA&gt;</td>\n",
       "      <td>NaN</td>\n",
       "      <td>37.40</td>\n",
       "      <td>-121.94</td>\n",
       "      <td>&lt;NA&gt;</td>\n",
       "      <td>NaN</td>\n",
       "      <td>37.40</td>\n",
       "      <td>-121.94</td>\n",
       "      <td>4174</td>\n",
       "      <td>Subscriber</td>\n",
       "      <td>1977</td>\n",
       "      <td>Male</td>\n",
       "      <td>No</td>\n",
       "    </tr>\n",
       "    <tr>\n",
       "      <th>174807</th>\n",
       "      <td>8209</td>\n",
       "      <td>2019-02-02 14:26:59.965</td>\n",
       "      <td>2019-02-02 16:43:49.518</td>\n",
       "      <td>&lt;NA&gt;</td>\n",
       "      <td>NaN</td>\n",
       "      <td>37.40</td>\n",
       "      <td>-121.93</td>\n",
       "      <td>&lt;NA&gt;</td>\n",
       "      <td>NaN</td>\n",
       "      <td>37.41</td>\n",
       "      <td>-121.94</td>\n",
       "      <td>4249</td>\n",
       "      <td>Subscriber</td>\n",
       "      <td>1993</td>\n",
       "      <td>Male</td>\n",
       "      <td>Yes</td>\n",
       "    </tr>\n",
       "    <tr>\n",
       "      <th>179970</th>\n",
       "      <td>659</td>\n",
       "      <td>2019-02-01 12:17:37.675</td>\n",
       "      <td>2019-02-01 12:28:37.014</td>\n",
       "      <td>&lt;NA&gt;</td>\n",
       "      <td>NaN</td>\n",
       "      <td>37.41</td>\n",
       "      <td>-121.96</td>\n",
       "      <td>&lt;NA&gt;</td>\n",
       "      <td>NaN</td>\n",
       "      <td>37.41</td>\n",
       "      <td>-121.94</td>\n",
       "      <td>4092</td>\n",
       "      <td>Subscriber</td>\n",
       "      <td>1999</td>\n",
       "      <td>Female</td>\n",
       "      <td>No</td>\n",
       "    </tr>\n",
       "    <tr>\n",
       "      <th>180106</th>\n",
       "      <td>2013</td>\n",
       "      <td>2019-02-01 11:33:55.147</td>\n",
       "      <td>2019-02-01 12:07:28.940</td>\n",
       "      <td>&lt;NA&gt;</td>\n",
       "      <td>NaN</td>\n",
       "      <td>37.40</td>\n",
       "      <td>-121.94</td>\n",
       "      <td>&lt;NA&gt;</td>\n",
       "      <td>NaN</td>\n",
       "      <td>37.40</td>\n",
       "      <td>-121.94</td>\n",
       "      <td>4251</td>\n",
       "      <td>Customer</td>\n",
       "      <td>1990</td>\n",
       "      <td>Female</td>\n",
       "      <td>No</td>\n",
       "    </tr>\n",
       "  </tbody>\n",
       "</table>\n",
       "</div>"
      ],
      "text/plain": [
       "        duration_sec              start_time                end_time  \\\n",
       "8783             883 2019-02-28 07:58:07.372 2019-02-28 08:12:51.276   \n",
       "15298            890 2019-02-27 09:33:32.572 2019-02-27 09:48:23.075   \n",
       "16746           1005 2019-02-27 08:00:53.528 2019-02-27 08:17:38.534   \n",
       "22306           1123 2019-02-26 08:05:08.632 2019-02-26 08:23:52.033   \n",
       "24429            806 2019-02-25 18:11:33.034 2019-02-25 18:24:59.531   \n",
       "27544            743 2019-02-25 09:26:04.632 2019-02-25 09:38:28.533   \n",
       "28942           1035 2019-02-25 08:01:32.069 2019-02-25 08:18:48.067   \n",
       "30286            600 2019-02-24 20:48:06.426 2019-02-24 20:58:07.093   \n",
       "30726           2447 2019-02-24 18:04:43.530 2019-02-24 18:45:31.466   \n",
       "43351            853 2019-02-22 16:34:41.176 2019-02-22 16:48:55.071   \n",
       "48146            769 2019-02-22 08:06:19.670 2019-02-22 08:19:08.964   \n",
       "49820            743 2019-02-21 20:18:41.694 2019-02-21 20:31:05.228   \n",
       "49989            598 2019-02-21 19:57:57.187 2019-02-21 20:07:55.285   \n",
       "54017           1078 2019-02-21 13:53:12.273 2019-02-21 14:11:11.075   \n",
       "59280            740 2019-02-20 20:35:21.011 2019-02-20 20:47:41.562   \n",
       "62466            771 2019-02-20 16:47:37.368 2019-02-20 17:00:28.471   \n",
       "63577            610 2019-02-20 14:28:13.530 2019-02-20 14:38:24.431   \n",
       "63585            552 2019-02-20 14:28:13.830 2019-02-20 14:37:26.529   \n",
       "64459            175 2019-02-20 12:05:52.168 2019-02-20 12:08:47.258   \n",
       "65857            857 2019-02-20 09:05:31.072 2019-02-20 09:19:48.374   \n",
       "69399           2020 2019-02-19 19:10:11.072 2019-02-19 19:43:51.285   \n",
       "72429            660 2019-02-19 16:22:35.288 2019-02-19 16:33:35.580   \n",
       "72916           1741 2019-02-19 15:01:18.291 2019-02-19 15:30:19.691   \n",
       "74009            168 2019-02-19 11:59:02.572 2019-02-19 12:01:51.271   \n",
       "76838            700 2019-02-19 07:52:54.683 2019-02-19 08:04:34.886   \n",
       "78220           1206 2019-02-18 20:10:53.985 2019-02-18 20:31:00.389   \n",
       "79544           1558 2019-02-18 17:05:49.888 2019-02-18 17:31:48.525   \n",
       "79766            718 2019-02-18 16:54:09.988 2019-02-18 17:06:08.689   \n",
       "80046             66 2019-02-18 16:31:23.289 2019-02-18 16:32:30.088   \n",
       "81083           1695 2019-02-18 13:46:39.790 2019-02-18 14:14:55.288   \n",
       "90873            999 2019-02-16 11:03:21.387 2019-02-16 11:20:01.188   \n",
       "106166           216 2019-02-13 18:47:22.967 2019-02-13 18:50:59.807   \n",
       "107764           473 2019-02-13 14:29:52.566 2019-02-13 14:37:46.407   \n",
       "110257           100 2019-02-12 18:14:05.926 2019-02-12 18:15:46.667   \n",
       "111846           877 2019-02-12 16:29:22.626 2019-02-12 16:43:59.807   \n",
       "113479           324 2019-02-12 12:05:46.705 2019-02-12 12:11:11.683   \n",
       "117391          1094 2019-02-11 21:53:17.245 2019-02-11 22:11:31.705   \n",
       "124236           994 2019-02-11 08:34:14.624 2019-02-11 08:50:48.965   \n",
       "125220           587 2019-02-11 07:45:08.217 2019-02-11 07:54:55.522   \n",
       "127820           936 2019-02-10 14:42:20.473 2019-02-10 14:57:57.216   \n",
       "128021          1510 2019-02-10 13:58:44.755 2019-02-10 14:23:55.697   \n",
       "128584          1722 2019-02-10 12:34:36.259 2019-02-10 13:03:18.466   \n",
       "129141          3633 2019-02-10 10:32:42.493 2019-02-10 11:33:16.058   \n",
       "130538          3438 2019-02-09 16:10:42.108 2019-02-09 17:08:00.909   \n",
       "131502           795 2019-02-09 12:10:29.164 2019-02-09 12:23:44.706   \n",
       "132593           439 2019-02-08 23:52:25.847 2019-02-08 23:59:44.927   \n",
       "142719          2031 2019-02-07 16:23:38.568 2019-02-07 16:57:29.745   \n",
       "152178           366 2019-02-06 16:20:37.102 2019-02-06 16:26:43.165   \n",
       "152648           660 2019-02-06 15:07:33.960 2019-02-06 15:18:34.562   \n",
       "154695           968 2019-02-06 09:19:56.878 2019-02-06 09:36:05.238   \n",
       "161400          1159 2019-02-05 14:53:30.431 2019-02-05 15:12:49.446   \n",
       "172481          3791 2019-02-03 14:53:55.947 2019-02-03 15:57:07.086   \n",
       "174807          8209 2019-02-02 14:26:59.965 2019-02-02 16:43:49.518   \n",
       "179970           659 2019-02-01 12:17:37.675 2019-02-01 12:28:37.014   \n",
       "180106          2013 2019-02-01 11:33:55.147 2019-02-01 12:07:28.940   \n",
       "\n",
       "        start_station_id start_station_name  start_station_latitude  \\\n",
       "8783                <NA>                NaN                   37.41   \n",
       "15298               <NA>                NaN                   37.41   \n",
       "16746               <NA>                NaN                   37.41   \n",
       "22306               <NA>                NaN                   37.41   \n",
       "24429               <NA>                NaN                   37.41   \n",
       "27544               <NA>                NaN                   37.41   \n",
       "28942               <NA>                NaN                   37.41   \n",
       "30286               <NA>                NaN                   37.40   \n",
       "30726               <NA>                NaN                   37.41   \n",
       "43351               <NA>                NaN                   37.40   \n",
       "48146               <NA>                NaN                   37.41   \n",
       "49820               <NA>                NaN                   37.41   \n",
       "49989               <NA>                NaN                   37.40   \n",
       "54017               <NA>                NaN                   37.40   \n",
       "59280               <NA>                NaN                   37.41   \n",
       "62466               <NA>                NaN                   37.40   \n",
       "63577               <NA>                NaN                   37.40   \n",
       "63585               <NA>                NaN                   37.41   \n",
       "64459               <NA>                NaN                   37.41   \n",
       "65857               <NA>                NaN                   37.41   \n",
       "69399               <NA>                NaN                   37.40   \n",
       "72429               <NA>                NaN                   37.40   \n",
       "72916               <NA>                NaN                   37.39   \n",
       "74009               <NA>                NaN                   37.42   \n",
       "76838               <NA>                NaN                   37.40   \n",
       "78220               <NA>                NaN                   37.41   \n",
       "79544               <NA>                NaN                   37.40   \n",
       "79766               <NA>                NaN                   37.42   \n",
       "80046               <NA>                NaN                   37.41   \n",
       "81083               <NA>                NaN                   37.40   \n",
       "90873               <NA>                NaN                   37.42   \n",
       "106166              <NA>                NaN                   37.42   \n",
       "107764              <NA>                NaN                   37.42   \n",
       "110257              <NA>                NaN                   37.42   \n",
       "111846              <NA>                NaN                   37.41   \n",
       "113479              <NA>                NaN                   37.41   \n",
       "117391              <NA>                NaN                   37.40   \n",
       "124236              <NA>                NaN                   37.41   \n",
       "125220              <NA>                NaN                   37.40   \n",
       "127820              <NA>                NaN                   37.42   \n",
       "128021              <NA>                NaN                   37.40   \n",
       "128584              <NA>                NaN                   37.41   \n",
       "129141              <NA>                NaN                   37.40   \n",
       "130538              <NA>                NaN                   37.40   \n",
       "131502              <NA>                NaN                   37.40   \n",
       "132593              <NA>                NaN                   37.42   \n",
       "142719              <NA>                NaN                   37.41   \n",
       "152178              <NA>                NaN                   37.41   \n",
       "152648              <NA>                NaN                   37.40   \n",
       "154695              <NA>                NaN                   37.41   \n",
       "161400              <NA>                NaN                   37.40   \n",
       "172481              <NA>                NaN                   37.40   \n",
       "174807              <NA>                NaN                   37.40   \n",
       "179970              <NA>                NaN                   37.41   \n",
       "180106              <NA>                NaN                   37.40   \n",
       "\n",
       "        start_station_longitude  end_station_id end_station_name  \\\n",
       "8783                    -121.96            <NA>              NaN   \n",
       "15298                   -121.96            <NA>              NaN   \n",
       "16746                   -121.96            <NA>              NaN   \n",
       "22306                   -121.96            <NA>              NaN   \n",
       "24429                   -121.94            <NA>              NaN   \n",
       "27544                   -121.96            <NA>              NaN   \n",
       "28942                   -121.96            <NA>              NaN   \n",
       "30286                   -121.93            <NA>              NaN   \n",
       "30726                   -121.95            <NA>              NaN   \n",
       "43351                   -121.92            <NA>              NaN   \n",
       "48146                   -121.96            <NA>              NaN   \n",
       "49820                   -121.94            <NA>              NaN   \n",
       "49989                   -121.93            <NA>              NaN   \n",
       "54017                   -121.93            <NA>              NaN   \n",
       "59280                   -121.96            <NA>              NaN   \n",
       "62466                   -121.92            <NA>              NaN   \n",
       "63577                   -121.93            <NA>              NaN   \n",
       "63585                   -121.95            <NA>              NaN   \n",
       "64459                   -121.94            <NA>              NaN   \n",
       "65857                   -121.96            <NA>              NaN   \n",
       "69399                   -121.94            <NA>              NaN   \n",
       "72429                   -121.93            <NA>              NaN   \n",
       "72916                   -121.92            <NA>              NaN   \n",
       "74009                   -121.94            <NA>              NaN   \n",
       "76838                   -121.92            <NA>              NaN   \n",
       "78220                   -121.94            <NA>              NaN   \n",
       "79544                   -121.94            <NA>              NaN   \n",
       "79766                   -121.96            <NA>              NaN   \n",
       "80046                   -121.94            <NA>              NaN   \n",
       "81083                   -121.94            <NA>              NaN   \n",
       "90873                   -121.95            <NA>              NaN   \n",
       "106166                  -121.94            <NA>              NaN   \n",
       "107764                  -121.94            <NA>              NaN   \n",
       "110257                  -121.94            <NA>              NaN   \n",
       "111846                  -121.94            <NA>              NaN   \n",
       "113479                  -121.94            <NA>              NaN   \n",
       "117391                  -121.94            <NA>              NaN   \n",
       "124236                  -121.96            <NA>              NaN   \n",
       "125220                  -121.93            <NA>              NaN   \n",
       "127820                  -121.95            <NA>              NaN   \n",
       "128021                  -121.94            <NA>              NaN   \n",
       "128584                  -121.95            <NA>              NaN   \n",
       "129141                  -121.94            <NA>              NaN   \n",
       "130538                  -121.94            <NA>              NaN   \n",
       "131502                  -121.94            <NA>              NaN   \n",
       "132593                  -121.95            <NA>              NaN   \n",
       "142719                  -121.98            <NA>              NaN   \n",
       "152178                  -121.95            <NA>              NaN   \n",
       "152648                  -121.92            <NA>              NaN   \n",
       "154695                  -121.96            <NA>              NaN   \n",
       "161400                  -121.94            <NA>              NaN   \n",
       "172481                  -121.94            <NA>              NaN   \n",
       "174807                  -121.93            <NA>              NaN   \n",
       "179970                  -121.96            <NA>              NaN   \n",
       "180106                  -121.94            <NA>              NaN   \n",
       "\n",
       "        end_station_latitude  end_station_longitude  bike_id   user_type  \\\n",
       "8783                   37.40                -121.94     4211  Subscriber   \n",
       "15298                  37.41                -121.94     4211  Subscriber   \n",
       "16746                  37.40                -121.94     4091  Subscriber   \n",
       "22306                  37.40                -121.94     4239  Subscriber   \n",
       "24429                  37.41                -121.94     4189  Subscriber   \n",
       "27544                  37.41                -121.94     4091  Subscriber   \n",
       "28942                  37.40                -121.94     4239  Subscriber   \n",
       "30286                  37.41                -121.94     4095  Subscriber   \n",
       "30726                  37.40                -121.94     4141  Subscriber   \n",
       "43351                  37.41                -121.94     4197  Subscriber   \n",
       "48146                  37.40                -121.94     4162  Subscriber   \n",
       "49820                  37.41                -121.94     4197    Customer   \n",
       "49989                  37.41                -121.94     4095  Subscriber   \n",
       "54017                  37.41                -121.94     4162    Customer   \n",
       "59280                  37.41                -121.94     4239    Customer   \n",
       "62466                  37.41                -121.94     4197  Subscriber   \n",
       "63577                  37.40                -121.94     4250    Customer   \n",
       "63585                  37.41                -121.94     4168    Customer   \n",
       "64459                  37.41                -121.94     4162    Customer   \n",
       "65857                  37.41                -121.94     4162  Subscriber   \n",
       "69399                  37.40                -121.94     4197    Customer   \n",
       "72429                  37.41                -121.94     4283    Customer   \n",
       "72916                  37.40                -121.94     4197    Customer   \n",
       "74009                  37.42                -121.94     4162    Customer   \n",
       "76838                  37.40                -121.94     4250    Customer   \n",
       "78220                  37.41                -121.94     4283    Customer   \n",
       "79544                  37.40                -121.94     4245    Customer   \n",
       "79766                  37.41                -121.94     4095  Subscriber   \n",
       "80046                  37.41                -121.94     4095  Subscriber   \n",
       "81083                  37.40                -121.94     4245    Customer   \n",
       "90873                  37.41                -121.94     4283    Customer   \n",
       "106166                 37.42                -121.94     4162  Subscriber   \n",
       "107764                 37.41                -121.94     4162    Customer   \n",
       "110257                 37.42                -121.94     4162  Subscriber   \n",
       "111846                 37.42                -121.94     4162    Customer   \n",
       "113479                 37.41                -121.94     4162    Customer   \n",
       "117391                 37.40                -121.94     4250    Customer   \n",
       "124236                 37.41                -121.94     4141  Subscriber   \n",
       "125220                 37.40                -121.94     4245    Customer   \n",
       "127820                 37.41                -121.94     4165  Subscriber   \n",
       "128021                 37.40                -121.94     4174    Customer   \n",
       "128584                 37.38                -121.94     4093  Subscriber   \n",
       "129141                 37.40                -121.94     4174  Subscriber   \n",
       "130538                 37.40                -121.94     4174  Subscriber   \n",
       "131502                 37.40                -121.94     4174    Customer   \n",
       "132593                 37.41                -121.94     4162    Customer   \n",
       "142719                 37.41                -121.94     4125    Customer   \n",
       "152178                 37.42                -121.94     4157  Subscriber   \n",
       "152648                 37.41                -121.94     4249  Subscriber   \n",
       "154695                 37.41                -121.94     4092  Subscriber   \n",
       "161400                 37.40                -121.94     4174    Customer   \n",
       "172481                 37.40                -121.94     4174  Subscriber   \n",
       "174807                 37.41                -121.94     4249  Subscriber   \n",
       "179970                 37.41                -121.94     4092  Subscriber   \n",
       "180106                 37.40                -121.94     4251    Customer   \n",
       "\n",
       "        member_birth_year member_gender bike_share_for_all_trip  \n",
       "8783                 1980          Male                      No  \n",
       "15298                1999        Female                      No  \n",
       "16746                1980          Male                      No  \n",
       "22306                1980          Male                      No  \n",
       "24429                1994        Female                     Yes  \n",
       "27544                1999        Female                      No  \n",
       "28942                1980          Male                      No  \n",
       "30286                1991          Male                      No  \n",
       "30726                1977          Male                      No  \n",
       "43351                1976          Male                      No  \n",
       "48146                1980          Male                      No  \n",
       "49820                1984          Male                      No  \n",
       "49989                1991          Male                      No  \n",
       "54017                1990        Female                      No  \n",
       "59280                <NA>           NaN                      No  \n",
       "62466                1976          Male                      No  \n",
       "63577                1990        Female                      No  \n",
       "63585                1960          Male                      No  \n",
       "64459                1997         Other                      No  \n",
       "65857                1999        Female                      No  \n",
       "69399                1982          Male                      No  \n",
       "72429                1996          Male                      No  \n",
       "72916                1985        Female                      No  \n",
       "74009                1997         Other                      No  \n",
       "76838                1990          Male                      No  \n",
       "78220                1991          Male                      No  \n",
       "79544                1962          Male                      No  \n",
       "79766                1987          Male                      No  \n",
       "80046                1987          Male                      No  \n",
       "81083                1986        Female                      No  \n",
       "90873                1992        Female                      No  \n",
       "106166               2000        Female                     Yes  \n",
       "107764               1997         Other                      No  \n",
       "110257               1999          Male                     Yes  \n",
       "111846               1997         Other                      No  \n",
       "113479               1997         Other                      No  \n",
       "117391               1990          Male                      No  \n",
       "124236               1999          Male                      No  \n",
       "125220               1990          Male                      No  \n",
       "127820               1994          Male                      No  \n",
       "128021               1989          Male                      No  \n",
       "128584               1988          Male                      No  \n",
       "129141               1977          Male                      No  \n",
       "130538               1977          Male                      No  \n",
       "131502               1988        Female                      No  \n",
       "132593               1981          Male                      No  \n",
       "142719               1989          Male                      No  \n",
       "152178               2000        Female                     Yes  \n",
       "152648               1976          Male                      No  \n",
       "154695               1999        Female                      No  \n",
       "161400               1986          Male                      No  \n",
       "172481               1977          Male                      No  \n",
       "174807               1993          Male                     Yes  \n",
       "179970               1999        Female                      No  \n",
       "180106               1990        Female                      No  "
      ]
     },
     "execution_count": 33,
     "metadata": {},
     "output_type": "execute_result"
    }
   ],
   "source": [
    "fordgobike_clean[fordgobike_clean.end_station_longitude == -121.94]"
   ]
  },
  {
   "cell_type": "code",
   "execution_count": 24,
   "metadata": {
    "slideshow": {
     "slide_type": "skip"
    }
   },
   "outputs": [
    {
     "name": "stdout",
     "output_type": "stream",
     "text": [
      "<class 'pandas.core.frame.DataFrame'>\n",
      "Int64Index: 8265 entries, 1 to 183402\n",
      "Data columns (total 16 columns):\n",
      " #   Column                   Non-Null Count  Dtype         \n",
      "---  ------                   --------------  -----         \n",
      " 0   duration_sec             8265 non-null   int64         \n",
      " 1   start_time               8265 non-null   datetime64[ns]\n",
      " 2   end_time                 8265 non-null   datetime64[ns]\n",
      " 3   start_station_id         8263 non-null   Int64         \n",
      " 4   start_station_name       8263 non-null   object        \n",
      " 5   start_station_latitude   8265 non-null   float64       \n",
      " 6   start_station_longitude  8265 non-null   float64       \n",
      " 7   end_station_id           8263 non-null   Int64         \n",
      " 8   end_station_name         8263 non-null   object        \n",
      " 9   end_station_latitude     8265 non-null   float64       \n",
      " 10  end_station_longitude    8265 non-null   float64       \n",
      " 11  bike_id                  8265 non-null   int64         \n",
      " 12  user_type                8265 non-null   category      \n",
      " 13  member_birth_year        0 non-null      Int64         \n",
      " 14  member_gender            0 non-null      category      \n",
      " 15  bike_share_for_all_trip  8265 non-null   category      \n",
      "dtypes: Int64(3), category(3), datetime64[ns](2), float64(4), int64(2), object(2)\n",
      "memory usage: 888.0+ KB\n"
     ]
    }
   ],
   "source": [
    "fordgobike_clean[fordgobike_clean.member_birth_year.isnull()].info()"
   ]
  },
  {
   "cell_type": "code",
   "execution_count": 25,
   "metadata": {
    "slideshow": {
     "slide_type": "skip"
    }
   },
   "outputs": [
    {
     "name": "stdout",
     "output_type": "stream",
     "text": [
      "<class 'pandas.core.frame.DataFrame'>\n",
      "Int64Index: 8265 entries, 1 to 183402\n",
      "Data columns (total 16 columns):\n",
      " #   Column                   Non-Null Count  Dtype         \n",
      "---  ------                   --------------  -----         \n",
      " 0   duration_sec             8265 non-null   int64         \n",
      " 1   start_time               8265 non-null   datetime64[ns]\n",
      " 2   end_time                 8265 non-null   datetime64[ns]\n",
      " 3   start_station_id         8263 non-null   Int64         \n",
      " 4   start_station_name       8263 non-null   object        \n",
      " 5   start_station_latitude   8265 non-null   float64       \n",
      " 6   start_station_longitude  8265 non-null   float64       \n",
      " 7   end_station_id           8263 non-null   Int64         \n",
      " 8   end_station_name         8263 non-null   object        \n",
      " 9   end_station_latitude     8265 non-null   float64       \n",
      " 10  end_station_longitude    8265 non-null   float64       \n",
      " 11  bike_id                  8265 non-null   int64         \n",
      " 12  user_type                8265 non-null   category      \n",
      " 13  member_birth_year        0 non-null      Int64         \n",
      " 14  member_gender            0 non-null      category      \n",
      " 15  bike_share_for_all_trip  8265 non-null   category      \n",
      "dtypes: Int64(3), category(3), datetime64[ns](2), float64(4), int64(2), object(2)\n",
      "memory usage: 888.0+ KB\n"
     ]
    }
   ],
   "source": [
    "fordgobike_clean[fordgobike_clean.member_gender.isnull()].info()"
   ]
  },
  {
   "cell_type": "code",
   "execution_count": 44,
   "metadata": {
    "slideshow": {
     "slide_type": "skip"
    }
   },
   "outputs": [
    {
     "data": {
      "text/plain": [
       "Subscriber    5028\n",
       "Customer      3237\n",
       "Name: user_type, dtype: int64"
      ]
     },
     "execution_count": 44,
     "metadata": {},
     "output_type": "execute_result"
    }
   ],
   "source": [
    "fordgobike_clean[fordgobike_clean.member_gender.isnull()].user_type.value_counts()"
   ]
  },
  {
   "cell_type": "code",
   "execution_count": 45,
   "metadata": {
    "slideshow": {
     "slide_type": "skip"
    }
   },
   "outputs": [
    {
     "data": {
      "text/plain": [
       "No     8265\n",
       "Yes       0\n",
       "Name: bike_share_for_all_trip, dtype: int64"
      ]
     },
     "execution_count": 45,
     "metadata": {},
     "output_type": "execute_result"
    }
   ],
   "source": [
    "fordgobike_clean[fordgobike_clean.member_gender.isnull()].bike_share_for_all_trip.value_counts()"
   ]
  },
  {
   "cell_type": "markdown",
   "metadata": {
    "slideshow": {
     "slide_type": "skip"
    }
   },
   "source": [
    "The missing values in the columns start_station_id, start_station_name, end_station_id and end_station_name concern exactly the same rows for all cases. By analyze the latitude and longitude for start and station and also the duration, it appeart that the ride started and ended in around the same area.\n",
    "\n",
    "The missing values in the columns member_birth_year and member_gender refers to member whom are not interest to the Ford GoBike's \"Bike Share For All\" program. Maybe that expline why they didn't share their personnal informations. \n",
    "\n",
    "I prefer to let the null values as they are because I'll need the others non-values of the same rows (where null values exist) in my analysis."
   ]
  },
  {
   "cell_type": "markdown",
   "metadata": {
    "slideshow": {
     "slide_type": "skip"
    }
   },
   "source": [
    "### What is the structure of your dataset?\n",
    "\n",
    "> There are 183412 individual rides dataset with 16 features :  \n",
    "> * duration_sec : ride duration.        \n",
    "> * start_time and end_time : When the ride start and end.\n",
    "> * start_station_id, start_station_name, start_station_latitude, start_station_longitude : Information about the station where the ride start.            \n",
    "> * start_station_longitude, end_station_id, end_station_name, end_station_latitude  and end_station_longitude: Information about the station where the ride end.         \n",
    "> * bike_id, bike_share_for_all_trip : Informations about the bike used in the ride.        \n",
    "> * user_type, member_birth_year and member_gender :  Informations about the user.  \n",
    ">\n",
    "> We have three categoricals variables (user_type, member_gender and bike_share_for_all_trip) and the most other variables are numericals.\n",
    "               \n",
    " \n",
    "\n",
    "### What is/are the main feature(s) of interest in your dataset?\n",
    "\n",
    "> The main goal of my investigation is to figure out what are the most population who use the FordGoBike service.\n",
    "\n",
    " \n",
    "\n",
    "### What features in the dataset do you think will help support your investigation into your feature(s) of interest?\n",
    "\n",
    "> The features that will help me in my investigation are : gender, member_birth_year, user_type and duration."
   ]
  },
  {
   "cell_type": "markdown",
   "metadata": {
    "slideshow": {
     "slide_type": "slide"
    }
   },
   "source": [
    "## Univariate Exploration\n",
    "\n",
    "> In this section, investigate distributions of individual variables."
   ]
  },
  {
   "cell_type": "code",
   "execution_count": 157,
   "metadata": {
    "slideshow": {
     "slide_type": "skip"
    }
   },
   "outputs": [
    {
     "name": "stdout",
     "output_type": "stream",
     "text": [
      "<class 'pandas.core.frame.DataFrame'>\n",
      "RangeIndex: 183412 entries, 0 to 183411\n",
      "Data columns (total 18 columns):\n",
      " #   Column                   Non-Null Count   Dtype         \n",
      "---  ------                   --------------   -----         \n",
      " 0   duration_sec             183412 non-null  int64         \n",
      " 1   start_time               183412 non-null  datetime64[ns]\n",
      " 2   end_time                 183412 non-null  datetime64[ns]\n",
      " 3   start_station_id         183215 non-null  Int64         \n",
      " 4   start_station_name       183215 non-null  object        \n",
      " 5   start_station_latitude   183412 non-null  float64       \n",
      " 6   start_station_longitude  183412 non-null  float64       \n",
      " 7   end_station_id           183215 non-null  Int64         \n",
      " 8   end_station_name         183215 non-null  object        \n",
      " 9   end_station_latitude     183412 non-null  float64       \n",
      " 10  end_station_longitude    183412 non-null  float64       \n",
      " 11  bike_id                  183412 non-null  int64         \n",
      " 12  user_type                183412 non-null  category      \n",
      " 13  member_birth_year        175147 non-null  Int64         \n",
      " 14  member_gender            175147 non-null  category      \n",
      " 15  bike_share_for_all_trip  183412 non-null  category      \n",
      " 16  user_age                 175147 non-null  Int64         \n",
      " 17  weekday                  183412 non-null  int64         \n",
      "dtypes: Int64(4), category(3), datetime64[ns](2), float64(4), int64(3), object(2)\n",
      "memory usage: 20.8+ MB\n"
     ]
    }
   ],
   "source": [
    "fordgobike_clean.info()"
   ]
  },
  {
   "cell_type": "markdown",
   "metadata": {
    "slideshow": {
     "slide_type": "slide"
    }
   },
   "source": [
    "I'll start by looking at the distribution of the  duration variable."
   ]
  },
  {
   "cell_type": "code",
   "execution_count": 37,
   "metadata": {
    "slideshow": {
     "slide_type": "skip"
    }
   },
   "outputs": [
    {
     "data": {
      "image/png": "[encoded data removed]",
      "text/plain": [
       "<Figure size 1080x576 with 1 Axes>"
      ]
     },
     "metadata": {
      "needs_background": "light"
     },
     "output_type": "display_data"
    }
   ],
   "source": [
    "# start with a standard-scaled plot\n",
    "default_color = sb.color_palette()[0]\n",
    "plt.figure(figsize=(15, 8))\n",
    "bins_edge = np.arange(fordgobike_clean.duration_sec.min(), fordgobike_clean.duration_sec.max()+10, 10)\n",
    "plt.hist(data=fordgobike_clean, x='duration_sec', color=default_color, bins=bins_edge)\n",
    "plt.xlabel('Duration (s)')\n",
    "plt.show()"
   ]
  },
  {
   "cell_type": "markdown",
   "metadata": {
    "slideshow": {
     "slide_type": "skip"
    }
   },
   "source": [
    "The initial plot of duration show the distribution is unimodal and skewed right. The plot also show that there're some strong outliers on the right. We have to analysis them and see if they need to be filtered out of the data."
   ]
  },
  {
   "cell_type": "code",
   "execution_count": 38,
   "metadata": {
    "slideshow": {
     "slide_type": "skip"
    }
   },
   "outputs": [
    {
     "name": "stdout",
     "output_type": "stream",
     "text": [
      "215\n"
     ]
    },
    {
     "data": {
      "text/html": [
       "<div>\n",
       "<style scoped>\n",
       "    .dataframe tbody tr th:only-of-type {\n",
       "        vertical-align: middle;\n",
       "    }\n",
       "\n",
       "    .dataframe tbody tr th {\n",
       "        vertical-align: top;\n",
       "    }\n",
       "\n",
       "    .dataframe thead th {\n",
       "        text-align: right;\n",
       "    }\n",
       "</style>\n",
       "<table border=\"1\" class=\"dataframe\">\n",
       "  <thead>\n",
       "    <tr style=\"text-align: right;\">\n",
       "      <th></th>\n",
       "      <th>duration_sec</th>\n",
       "      <th>start_time</th>\n",
       "      <th>end_time</th>\n",
       "      <th>start_station_id</th>\n",
       "      <th>start_station_name</th>\n",
       "      <th>start_station_latitude</th>\n",
       "      <th>start_station_longitude</th>\n",
       "      <th>end_station_id</th>\n",
       "      <th>end_station_name</th>\n",
       "      <th>end_station_latitude</th>\n",
       "      <th>end_station_longitude</th>\n",
       "      <th>bike_id</th>\n",
       "      <th>user_type</th>\n",
       "      <th>member_birth_year</th>\n",
       "      <th>member_gender</th>\n",
       "      <th>bike_share_for_all_trip</th>\n",
       "    </tr>\n",
       "  </thead>\n",
       "  <tbody>\n",
       "    <tr>\n",
       "      <th>0</th>\n",
       "      <td>52185</td>\n",
       "      <td>2019-02-28 17:32:10.145</td>\n",
       "      <td>2019-03-01 08:01:55.975</td>\n",
       "      <td>21</td>\n",
       "      <td>Montgomery St BART Station (Market St at 2nd St)</td>\n",
       "      <td>37.789625</td>\n",
       "      <td>-122.400811</td>\n",
       "      <td>13</td>\n",
       "      <td>Commercial St at Montgomery St</td>\n",
       "      <td>37.794231</td>\n",
       "      <td>-122.402923</td>\n",
       "      <td>4902</td>\n",
       "      <td>Customer</td>\n",
       "      <td>1984</td>\n",
       "      <td>Male</td>\n",
       "      <td>No</td>\n",
       "    </tr>\n",
       "    <tr>\n",
       "      <th>1</th>\n",
       "      <td>42521</td>\n",
       "      <td>2019-02-28 18:53:21.789</td>\n",
       "      <td>2019-03-01 06:42:03.056</td>\n",
       "      <td>23</td>\n",
       "      <td>The Embarcadero at Steuart St</td>\n",
       "      <td>37.791464</td>\n",
       "      <td>-122.391034</td>\n",
       "      <td>81</td>\n",
       "      <td>Berry St at 4th St</td>\n",
       "      <td>37.775880</td>\n",
       "      <td>-122.393170</td>\n",
       "      <td>2535</td>\n",
       "      <td>Customer</td>\n",
       "      <td>&lt;NA&gt;</td>\n",
       "      <td>NaN</td>\n",
       "      <td>No</td>\n",
       "    </tr>\n",
       "    <tr>\n",
       "      <th>2</th>\n",
       "      <td>61854</td>\n",
       "      <td>2019-02-28 12:13:13.218</td>\n",
       "      <td>2019-03-01 05:24:08.146</td>\n",
       "      <td>86</td>\n",
       "      <td>Market St at Dolores St</td>\n",
       "      <td>37.769305</td>\n",
       "      <td>-122.426826</td>\n",
       "      <td>3</td>\n",
       "      <td>Powell St BART Station (Market St at 4th St)</td>\n",
       "      <td>37.786375</td>\n",
       "      <td>-122.404904</td>\n",
       "      <td>5905</td>\n",
       "      <td>Customer</td>\n",
       "      <td>1972</td>\n",
       "      <td>Male</td>\n",
       "      <td>No</td>\n",
       "    </tr>\n",
       "    <tr>\n",
       "      <th>3</th>\n",
       "      <td>36490</td>\n",
       "      <td>2019-02-28 17:54:26.010</td>\n",
       "      <td>2019-03-01 04:02:36.842</td>\n",
       "      <td>375</td>\n",
       "      <td>Grove St at Masonic Ave</td>\n",
       "      <td>37.774836</td>\n",
       "      <td>-122.446546</td>\n",
       "      <td>70</td>\n",
       "      <td>Central Ave at Fell St</td>\n",
       "      <td>37.773311</td>\n",
       "      <td>-122.444293</td>\n",
       "      <td>6638</td>\n",
       "      <td>Subscriber</td>\n",
       "      <td>1989</td>\n",
       "      <td>Other</td>\n",
       "      <td>No</td>\n",
       "    </tr>\n",
       "    <tr>\n",
       "      <th>546</th>\n",
       "      <td>22087</td>\n",
       "      <td>2019-02-28 15:05:22.467</td>\n",
       "      <td>2019-02-28 21:13:29.671</td>\n",
       "      <td>3</td>\n",
       "      <td>Powell St BART Station (Market St at 4th St)</td>\n",
       "      <td>37.786375</td>\n",
       "      <td>-122.404904</td>\n",
       "      <td>371</td>\n",
       "      <td>Lombard St at Columbus Ave</td>\n",
       "      <td>37.802746</td>\n",
       "      <td>-122.413579</td>\n",
       "      <td>2761</td>\n",
       "      <td>Customer</td>\n",
       "      <td>&lt;NA&gt;</td>\n",
       "      <td>NaN</td>\n",
       "      <td>No</td>\n",
       "    </tr>\n",
       "    <tr>\n",
       "      <th>...</th>\n",
       "      <td>...</td>\n",
       "      <td>...</td>\n",
       "      <td>...</td>\n",
       "      <td>...</td>\n",
       "      <td>...</td>\n",
       "      <td>...</td>\n",
       "      <td>...</td>\n",
       "      <td>...</td>\n",
       "      <td>...</td>\n",
       "      <td>...</td>\n",
       "      <td>...</td>\n",
       "      <td>...</td>\n",
       "      <td>...</td>\n",
       "      <td>...</td>\n",
       "      <td>...</td>\n",
       "      <td>...</td>\n",
       "    </tr>\n",
       "    <tr>\n",
       "      <th>176130</th>\n",
       "      <td>59813</td>\n",
       "      <td>2019-02-01 19:54:49.848</td>\n",
       "      <td>2019-02-02 12:31:43.043</td>\n",
       "      <td>60</td>\n",
       "      <td>8th St at Ringold St</td>\n",
       "      <td>37.774520</td>\n",
       "      <td>-122.409449</td>\n",
       "      <td>43</td>\n",
       "      <td>San Francisco Public Library (Grove St at Hyde...</td>\n",
       "      <td>37.778768</td>\n",
       "      <td>-122.415929</td>\n",
       "      <td>335</td>\n",
       "      <td>Subscriber</td>\n",
       "      <td>1990</td>\n",
       "      <td>Female</td>\n",
       "      <td>No</td>\n",
       "    </tr>\n",
       "    <tr>\n",
       "      <th>176987</th>\n",
       "      <td>80891</td>\n",
       "      <td>2019-02-01 11:05:18.976</td>\n",
       "      <td>2019-02-02 09:33:30.169</td>\n",
       "      <td>44</td>\n",
       "      <td>Civic Center/UN Plaza BART Station (Market St ...</td>\n",
       "      <td>37.781074</td>\n",
       "      <td>-122.411738</td>\n",
       "      <td>55</td>\n",
       "      <td>Webster St at Grove St</td>\n",
       "      <td>37.777053</td>\n",
       "      <td>-122.429558</td>\n",
       "      <td>3133</td>\n",
       "      <td>Customer</td>\n",
       "      <td>&lt;NA&gt;</td>\n",
       "      <td>NaN</td>\n",
       "      <td>No</td>\n",
       "    </tr>\n",
       "    <tr>\n",
       "      <th>177144</th>\n",
       "      <td>51488</td>\n",
       "      <td>2019-02-01 17:22:49.870</td>\n",
       "      <td>2019-02-02 07:40:58.473</td>\n",
       "      <td>207</td>\n",
       "      <td>Broadway at Coronado Ave</td>\n",
       "      <td>37.835788</td>\n",
       "      <td>-122.251621</td>\n",
       "      <td>253</td>\n",
       "      <td>Haste St at College Ave</td>\n",
       "      <td>37.866418</td>\n",
       "      <td>-122.253799</td>\n",
       "      <td>847</td>\n",
       "      <td>Subscriber</td>\n",
       "      <td>1997</td>\n",
       "      <td>Male</td>\n",
       "      <td>Yes</td>\n",
       "    </tr>\n",
       "    <tr>\n",
       "      <th>177279</th>\n",
       "      <td>30767</td>\n",
       "      <td>2019-02-01 15:44:06.638</td>\n",
       "      <td>2019-02-02 00:16:53.653</td>\n",
       "      <td>62</td>\n",
       "      <td>Victoria Manalo Draves Park</td>\n",
       "      <td>37.777791</td>\n",
       "      <td>-122.406432</td>\n",
       "      <td>63</td>\n",
       "      <td>Bryant St at 6th St</td>\n",
       "      <td>37.775910</td>\n",
       "      <td>-122.402575</td>\n",
       "      <td>1401</td>\n",
       "      <td>Customer</td>\n",
       "      <td>1988</td>\n",
       "      <td>Male</td>\n",
       "      <td>No</td>\n",
       "    </tr>\n",
       "    <tr>\n",
       "      <th>178416</th>\n",
       "      <td>31203</td>\n",
       "      <td>2019-02-01 08:40:28.487</td>\n",
       "      <td>2019-02-01 17:20:31.553</td>\n",
       "      <td>78</td>\n",
       "      <td>Folsom St at 9th St</td>\n",
       "      <td>37.773717</td>\n",
       "      <td>-122.411647</td>\n",
       "      <td>11</td>\n",
       "      <td>Davis St at Jackson St</td>\n",
       "      <td>37.797280</td>\n",
       "      <td>-122.398436</td>\n",
       "      <td>5110</td>\n",
       "      <td>Subscriber</td>\n",
       "      <td>1989</td>\n",
       "      <td>Male</td>\n",
       "      <td>No</td>\n",
       "    </tr>\n",
       "  </tbody>\n",
       "</table>\n",
       "<p>215 rows × 16 columns</p>\n",
       "</div>"
      ],
      "text/plain": [
       "        duration_sec              start_time                end_time  \\\n",
       "0              52185 2019-02-28 17:32:10.145 2019-03-01 08:01:55.975   \n",
       "1              42521 2019-02-28 18:53:21.789 2019-03-01 06:42:03.056   \n",
       "2              61854 2019-02-28 12:13:13.218 2019-03-01 05:24:08.146   \n",
       "3              36490 2019-02-28 17:54:26.010 2019-03-01 04:02:36.842   \n",
       "546            22087 2019-02-28 15:05:22.467 2019-02-28 21:13:29.671   \n",
       "...              ...                     ...                     ...   \n",
       "176130         59813 2019-02-01 19:54:49.848 2019-02-02 12:31:43.043   \n",
       "176987         80891 2019-02-01 11:05:18.976 2019-02-02 09:33:30.169   \n",
       "177144         51488 2019-02-01 17:22:49.870 2019-02-02 07:40:58.473   \n",
       "177279         30767 2019-02-01 15:44:06.638 2019-02-02 00:16:53.653   \n",
       "178416         31203 2019-02-01 08:40:28.487 2019-02-01 17:20:31.553   \n",
       "\n",
       "        start_station_id                                 start_station_name  \\\n",
       "0                     21   Montgomery St BART Station (Market St at 2nd St)   \n",
       "1                     23                      The Embarcadero at Steuart St   \n",
       "2                     86                            Market St at Dolores St   \n",
       "3                    375                            Grove St at Masonic Ave   \n",
       "546                    3       Powell St BART Station (Market St at 4th St)   \n",
       "...                  ...                                                ...   \n",
       "176130                60                               8th St at Ringold St   \n",
       "176987                44  Civic Center/UN Plaza BART Station (Market St ...   \n",
       "177144               207                           Broadway at Coronado Ave   \n",
       "177279                62                        Victoria Manalo Draves Park   \n",
       "178416                78                                Folsom St at 9th St   \n",
       "\n",
       "        start_station_latitude  start_station_longitude  end_station_id  \\\n",
       "0                    37.789625              -122.400811              13   \n",
       "1                    37.791464              -122.391034              81   \n",
       "2                    37.769305              -122.426826               3   \n",
       "3                    37.774836              -122.446546              70   \n",
       "546                  37.786375              -122.404904             371   \n",
       "...                        ...                      ...             ...   \n",
       "176130               37.774520              -122.409449              43   \n",
       "176987               37.781074              -122.411738              55   \n",
       "177144               37.835788              -122.251621             253   \n",
       "177279               37.777791              -122.406432              63   \n",
       "178416               37.773717              -122.411647              11   \n",
       "\n",
       "                                         end_station_name  \\\n",
       "0                          Commercial St at Montgomery St   \n",
       "1                                      Berry St at 4th St   \n",
       "2            Powell St BART Station (Market St at 4th St)   \n",
       "3                                  Central Ave at Fell St   \n",
       "546                            Lombard St at Columbus Ave   \n",
       "...                                                   ...   \n",
       "176130  San Francisco Public Library (Grove St at Hyde...   \n",
       "176987                             Webster St at Grove St   \n",
       "177144                            Haste St at College Ave   \n",
       "177279                                Bryant St at 6th St   \n",
       "178416                             Davis St at Jackson St   \n",
       "\n",
       "        end_station_latitude  end_station_longitude  bike_id   user_type  \\\n",
       "0                  37.794231            -122.402923     4902    Customer   \n",
       "1                  37.775880            -122.393170     2535    Customer   \n",
       "2                  37.786375            -122.404904     5905    Customer   \n",
       "3                  37.773311            -122.444293     6638  Subscriber   \n",
       "546                37.802746            -122.413579     2761    Customer   \n",
       "...                      ...                    ...      ...         ...   \n",
       "176130             37.778768            -122.415929      335  Subscriber   \n",
       "176987             37.777053            -122.429558     3133    Customer   \n",
       "177144             37.866418            -122.253799      847  Subscriber   \n",
       "177279             37.775910            -122.402575     1401    Customer   \n",
       "178416             37.797280            -122.398436     5110  Subscriber   \n",
       "\n",
       "        member_birth_year member_gender bike_share_for_all_trip  \n",
       "0                    1984          Male                      No  \n",
       "1                    <NA>           NaN                      No  \n",
       "2                    1972          Male                      No  \n",
       "3                    1989         Other                      No  \n",
       "546                  <NA>           NaN                      No  \n",
       "...                   ...           ...                     ...  \n",
       "176130               1990        Female                      No  \n",
       "176987               <NA>           NaN                      No  \n",
       "177144               1997          Male                     Yes  \n",
       "177279               1988          Male                      No  \n",
       "178416               1989          Male                      No  \n",
       "\n",
       "[215 rows x 16 columns]"
      ]
     },
     "execution_count": 38,
     "metadata": {},
     "output_type": "execute_result"
    }
   ],
   "source": [
    "# select high outliers based on the plot\n",
    "high_outliers = fordgobike_clean[fordgobike_clean.duration_sec>20000]\n",
    "print(len(high_outliers))\n",
    "high_outliers"
   ]
  },
  {
   "cell_type": "code",
   "execution_count": 39,
   "metadata": {
    "slideshow": {
     "slide_type": "skip"
    }
   },
   "outputs": [
    {
     "data": {
      "text/plain": [
       "True"
      ]
     },
     "execution_count": 39,
     "metadata": {},
     "output_type": "execute_result"
    }
   ],
   "source": [
    "# Check if the values are corrects by calcul the difference bteween end_time and start_time\n",
    "duration_trip = (high_outliers['end_time'] - high_outliers['start_time'])/np.timedelta64(1,'s')\n",
    "all(duration_trip.astype(np.int64) == high_outliers['duration_sec'])"
   ]
  },
  {
   "cell_type": "markdown",
   "metadata": {
    "slideshow": {
     "slide_type": "skip"
    }
   },
   "source": [
    "The high outliers appear to be valid values. As a final outlier check, I'll plot the dataset without outlier and see if there is a difference in the distrubition.\n"
   ]
  },
  {
   "cell_type": "code",
   "execution_count": 166,
   "metadata": {
    "slideshow": {
     "slide_type": "skip"
    }
   },
   "outputs": [
    {
     "data": {
      "image/png": "[encoded data removed]",
      "text/plain": [
       "<Figure size 1080x576 with 1 Axes>"
      ]
     },
     "metadata": {
      "needs_background": "light"
     },
     "output_type": "display_data"
    }
   ],
   "source": [
    "plt.figure(figsize=(15, 8))\n",
    "no_outliers = fordgobike_clean[fordgobike_clean.duration_sec<20000]\n",
    "bins_edge = np.arange(no_outliers.duration_sec.min(), no_outliers.duration_sec.max()+10, 10)\n",
    "plt.hist(data=no_outliers, x='duration_sec', color=default_color, bins=bins_edge)\n",
    "plt.xlabel('Duration (s)')\n",
    "plt.ylabel('Count')\n",
    "plt.title('Duration Distribution')\n",
    "plt.show()"
   ]
  },
  {
   "cell_type": "markdown",
   "metadata": {
    "slideshow": {
     "slide_type": "skip"
    }
   },
   "source": [
    "The plot show that duration follow a highly skewed distribution with or without high outliers, therefore, I decide to not remove them from the dataset. \n",
    "\n",
    "The plot show also that duration has a long-tailed distribution, so I'll plot the log scal instead."
   ]
  },
  {
   "cell_type": "code",
   "execution_count": 41,
   "metadata": {
    "slideshow": {
     "slide_type": "skip"
    }
   },
   "outputs": [
    {
     "data": {
      "text/plain": [
       "count    183412.000000\n",
       "mean        726.078435\n",
       "std        1794.389780\n",
       "min          61.000000\n",
       "25%         325.000000\n",
       "50%         514.000000\n",
       "75%         796.000000\n",
       "max       85444.000000\n",
       "Name: duration_sec, dtype: float64"
      ]
     },
     "execution_count": 41,
     "metadata": {},
     "output_type": "execute_result"
    }
   ],
   "source": [
    "fordgobike_clean.duration_sec.describe()"
   ]
  },
  {
   "cell_type": "code",
   "execution_count": 177,
   "metadata": {
    "slideshow": {
     "slide_type": "subslide"
    }
   },
   "outputs": [
    {
     "data": {
      "image/png": "[encoded data removed]",
      "text/plain": [
       "<Figure size 1080x576 with 1 Axes>"
      ]
     },
     "metadata": {
      "needs_background": "light"
     },
     "output_type": "display_data"
    }
   ],
   "source": [
    "# Plot the log scal\n",
    "plt.figure(figsize=[15, 8])\n",
    "bins_edge = 10 ** np.arange(np.log10(fordgobike_clean.duration_sec.min()), \n",
    "                            np.log10(fordgobike_clean.duration_sec.max())+0.02, 0.02)\n",
    "plt.hist(data=fordgobike_clean, x='duration_sec', color=default_color, bins=bins_edge)\n",
    "plt.xscale('log')\n",
    "duration_ticks = [50, 100, 200, 500, 1000, 2000, 5000, 10000, 20000, 50000, 100000]\n",
    "plt.xticks(duration_ticks, [50, 100, 200, 500, '1k', '2k', '5k', '10k', '20k', '50k', '100k'])\n",
    "plt.xlabel('Log Duration (s)')\n",
    "plt.ylabel('Rides Count')\n",
    "plt.title('Log Duration Distribution')\n",
    "plt.show()"
   ]
  },
  {
   "cell_type": "markdown",
   "metadata": {
    "slideshow": {
     "slide_type": "subslide"
    }
   },
   "source": [
    "The duration distribution unimodal with one large peak around 500, that mean the most cyclist use the bike for a short duration (500s = 8min20s)."
   ]
  },
  {
   "cell_type": "markdown",
   "metadata": {
    "slideshow": {
     "slide_type": "slide"
    }
   },
   "source": [
    "Let move on to see the gender and user type distribution."
   ]
  },
  {
   "cell_type": "code",
   "execution_count": 173,
   "metadata": {
    "slideshow": {
     "slide_type": "subslide"
    }
   },
   "outputs": [
    {
     "data": {
      "image/png": "[encoded data removed]",
      "text/plain": [
       "<Figure size 864x720 with 2 Axes>"
      ]
     },
     "metadata": {
      "needs_background": "light"
     },
     "output_type": "display_data"
    }
   ],
   "source": [
    "# let's plot gender and user_type together to get an idea of each ordinal variable's distribution.\n",
    "fig, ax = plt.subplots(nrows=2, figsize=(12, 10))\n",
    "(fordgobike_clean.member_gender.value_counts(sort=True, normalize=True)*100).plot.bar(ax=ax[0])\n",
    "ax[0].set_xlabel('Gender')\n",
    "ax[0].set_ylabel('Count Percentage')\n",
    "(fordgobike_clean.user_type.value_counts(sort=True, normalize=True)*100).plot.bar(ax=ax[1])\n",
    "ax[1].set_xlabel('User Type')\n",
    "ax[1].set_ylabel('Count Percentage')\n",
    "fig.suptitle('Rides by Gender and User Type')\n",
    "plt.show()"
   ]
  },
  {
   "cell_type": "markdown",
   "metadata": {
    "slideshow": {
     "slide_type": "subslide"
    }
   },
   "source": [
    "* Male are the most user that taked the bike rides with the percentage 74.9%.\n",
    "* The users of the type subscriber are the majority who taked bike rides with the percentage of 89.16%."
   ]
  },
  {
   "cell_type": "markdown",
   "metadata": {
    "slideshow": {
     "slide_type": "slide"
    }
   },
   "source": [
    "Let's see the distrubition of age, the age will be calculed based on the member_birth_year column."
   ]
  },
  {
   "cell_type": "code",
   "execution_count": 10,
   "metadata": {
    "slideshow": {
     "slide_type": "skip"
    }
   },
   "outputs": [
    {
     "data": {
      "text/html": [
       "<div>\n",
       "<style scoped>\n",
       "    .dataframe tbody tr th:only-of-type {\n",
       "        vertical-align: middle;\n",
       "    }\n",
       "\n",
       "    .dataframe tbody tr th {\n",
       "        vertical-align: top;\n",
       "    }\n",
       "\n",
       "    .dataframe thead th {\n",
       "        text-align: right;\n",
       "    }\n",
       "</style>\n",
       "<table border=\"1\" class=\"dataframe\">\n",
       "  <thead>\n",
       "    <tr style=\"text-align: right;\">\n",
       "      <th></th>\n",
       "      <th>duration_sec</th>\n",
       "      <th>start_time</th>\n",
       "      <th>end_time</th>\n",
       "      <th>start_station_id</th>\n",
       "      <th>start_station_name</th>\n",
       "      <th>start_station_latitude</th>\n",
       "      <th>start_station_longitude</th>\n",
       "      <th>end_station_id</th>\n",
       "      <th>end_station_name</th>\n",
       "      <th>end_station_latitude</th>\n",
       "      <th>end_station_longitude</th>\n",
       "      <th>bike_id</th>\n",
       "      <th>user_type</th>\n",
       "      <th>member_birth_year</th>\n",
       "      <th>member_gender</th>\n",
       "      <th>bike_share_for_all_trip</th>\n",
       "      <th>user_age</th>\n",
       "    </tr>\n",
       "  </thead>\n",
       "  <tbody>\n",
       "    <tr>\n",
       "      <th>0</th>\n",
       "      <td>52185</td>\n",
       "      <td>2019-02-28 17:32:10.1450</td>\n",
       "      <td>2019-03-01 08:01:55.9750</td>\n",
       "      <td>21</td>\n",
       "      <td>Montgomery St BART Station (Market St at 2nd St)</td>\n",
       "      <td>37.789625</td>\n",
       "      <td>-122.400811</td>\n",
       "      <td>13</td>\n",
       "      <td>Commercial St at Montgomery St</td>\n",
       "      <td>37.794231</td>\n",
       "      <td>-122.402923</td>\n",
       "      <td>4902</td>\n",
       "      <td>Customer</td>\n",
       "      <td>1984</td>\n",
       "      <td>Male</td>\n",
       "      <td>No</td>\n",
       "      <td>35</td>\n",
       "    </tr>\n",
       "    <tr>\n",
       "      <th>1</th>\n",
       "      <td>42521</td>\n",
       "      <td>2019-02-28 18:53:21.7890</td>\n",
       "      <td>2019-03-01 06:42:03.0560</td>\n",
       "      <td>23</td>\n",
       "      <td>The Embarcadero at Steuart St</td>\n",
       "      <td>37.791464</td>\n",
       "      <td>-122.391034</td>\n",
       "      <td>81</td>\n",
       "      <td>Berry St at 4th St</td>\n",
       "      <td>37.775880</td>\n",
       "      <td>-122.393170</td>\n",
       "      <td>2535</td>\n",
       "      <td>Customer</td>\n",
       "      <td>&lt;NA&gt;</td>\n",
       "      <td>NaN</td>\n",
       "      <td>No</td>\n",
       "      <td>&lt;NA&gt;</td>\n",
       "    </tr>\n",
       "  </tbody>\n",
       "</table>\n",
       "</div>"
      ],
      "text/plain": [
       "   duration_sec                start_time                  end_time  \\\n",
       "0         52185  2019-02-28 17:32:10.1450  2019-03-01 08:01:55.9750   \n",
       "1         42521  2019-02-28 18:53:21.7890  2019-03-01 06:42:03.0560   \n",
       "\n",
       "   start_station_id                                start_station_name  \\\n",
       "0                21  Montgomery St BART Station (Market St at 2nd St)   \n",
       "1                23                     The Embarcadero at Steuart St   \n",
       "\n",
       "   start_station_latitude  start_station_longitude  end_station_id  \\\n",
       "0               37.789625              -122.400811              13   \n",
       "1               37.791464              -122.391034              81   \n",
       "\n",
       "                 end_station_name  end_station_latitude  \\\n",
       "0  Commercial St at Montgomery St             37.794231   \n",
       "1              Berry St at 4th St             37.775880   \n",
       "\n",
       "   end_station_longitude  bike_id user_type  member_birth_year member_gender  \\\n",
       "0            -122.402923     4902  Customer               1984          Male   \n",
       "1            -122.393170     2535  Customer               <NA>           NaN   \n",
       "\n",
       "  bike_share_for_all_trip  user_age  \n",
       "0                      No        35  \n",
       "1                      No      <NA>  "
      ]
     },
     "execution_count": 10,
     "metadata": {},
     "output_type": "execute_result"
    }
   ],
   "source": [
    "# Calcul the age of user, this dataset is taken in 2019\n",
    "fordgobike_clean['user_age'] = 2019 - fordgobike_clean.member_birth_year\n",
    "fordgobike_clean.head(2)"
   ]
  },
  {
   "cell_type": "code",
   "execution_count": 176,
   "metadata": {
    "slideshow": {
     "slide_type": "skip"
    }
   },
   "outputs": [
    {
     "data": {
      "image/png": "[encoded data removed]",
      "text/plain": [
       "<Figure size 1080x576 with 1 Axes>"
      ]
     },
     "metadata": {
      "needs_background": "light"
     },
     "output_type": "display_data"
    }
   ],
   "source": [
    "# Plot the age histogram \n",
    "plt.figure(figsize=[15, 8])\n",
    "bins_edge = np.arange(fordgobike_clean.user_age.min(), fordgobike_clean.user_age.max()+1, 1)\n",
    "df_userage = fordgobike_clean[fordgobike_clean.user_age.notnull()]\n",
    "plt.hist(data=df_userage, x='user_age', color=default_color, bins=bins_edge)\n",
    "plt.xlabel('Age')\n",
    "plt.ylabel('Rides Count')\n",
    "plt.title('Age Distribution')\n",
    "plt.show()"
   ]
  },
  {
   "cell_type": "markdown",
   "metadata": {
    "slideshow": {
     "slide_type": "skip"
    }
   },
   "source": [
    "The initial plot show that there are high outliers in the dataset, which need to be investigated."
   ]
  },
  {
   "cell_type": "code",
   "execution_count": 52,
   "metadata": {
    "slideshow": {
     "slide_type": "skip"
    }
   },
   "outputs": [
    {
     "data": {
      "text/plain": [
       "count    175147.000000\n",
       "mean         34.193563\n",
       "std          10.116689\n",
       "min          18.000000\n",
       "25%          27.000000\n",
       "50%          32.000000\n",
       "75%          39.000000\n",
       "max         141.000000\n",
       "Name: user_age, dtype: float64"
      ]
     },
     "execution_count": 52,
     "metadata": {},
     "output_type": "execute_result"
    }
   ],
   "source": [
    "fordgobike_clean.user_age.describe()"
   ]
  },
  {
   "cell_type": "code",
   "execution_count": 53,
   "metadata": {
    "slideshow": {
     "slide_type": "skip"
    }
   },
   "outputs": [
    {
     "data": {
      "image/png": "[encoded data removed]",
      "text/plain": [
       "<Figure size 1008x432 with 1 Axes>"
      ]
     },
     "metadata": {
      "needs_background": "light"
     },
     "output_type": "display_data"
    }
   ],
   "source": [
    "plt.figure(figsize=(14,6))\n",
    "sb.boxplot(data=fordgobike_clean,  x='user_age', orient='h')\n",
    "plt.xlabel('User Age')\n",
    "plt.show()"
   ]
  },
  {
   "cell_type": "markdown",
   "metadata": {
    "slideshow": {
     "slide_type": "skip"
    }
   },
   "source": [
    "The boxplot show that outliers start from 60. In age between 60 and 100 it's normal that people suffer from health issues and lack of knowledge about technology, and that explaine why we have a few user in this interval who use Ford GoBike system. Therefore, the outliers that we should investageted is users with age large than 100."
   ]
  },
  {
   "cell_type": "code",
   "execution_count": 54,
   "metadata": {
    "slideshow": {
     "slide_type": "skip"
    }
   },
   "outputs": [
    {
     "data": {
      "text/plain": [
       "(72, 17)"
      ]
     },
     "execution_count": 54,
     "metadata": {},
     "output_type": "execute_result"
    }
   ],
   "source": [
    "fordgobike_clean[fordgobike_clean.user_age >100].shape"
   ]
  },
  {
   "cell_type": "code",
   "execution_count": 55,
   "metadata": {
    "slideshow": {
     "slide_type": "skip"
    }
   },
   "outputs": [
    {
     "data": {
      "text/plain": [
       "1900    53\n",
       "1902    11\n",
       "1901     6\n",
       "1878     1\n",
       "1910     1\n",
       "Name: member_birth_year, dtype: Int64"
      ]
     },
     "execution_count": 55,
     "metadata": {},
     "output_type": "execute_result"
    }
   ],
   "source": [
    "fordgobike_clean[fordgobike_clean.user_age >100].member_birth_year.value_counts()"
   ]
  },
  {
   "cell_type": "markdown",
   "metadata": {
    "slideshow": {
     "slide_type": "skip"
    }
   },
   "source": [
    "We have 72 high outliers in the dataset. It seem that the most users entered 1900 as their birth day maybe because they didn't want to share their personnal informations or they missed it during the registration process.   \n",
    "Since it's a mistake, I decide to deal with these high outliers by remove them from the dataset."
   ]
  },
  {
   "cell_type": "code",
   "execution_count": 175,
   "metadata": {
    "slideshow": {
     "slide_type": "subslide"
    }
   },
   "outputs": [
    {
     "data": {
      "image/png": "[encoded data removed]",
      "text/plain": [
       "<Figure size 1080x576 with 1 Axes>"
      ]
     },
     "metadata": {
      "needs_background": "light"
     },
     "output_type": "display_data"
    }
   ],
   "source": [
    "# Plot the age histogram \n",
    "plt.figure(figsize=[15, 8])\n",
    "bins_edge = np.arange(fordgobike_clean.user_age.min(), fordgobike_clean.user_age.max()+1, 1)\n",
    "df_userage = fordgobike_clean[(fordgobike_clean.user_age.notnull()) & (fordgobike_clean.user_age <100)]\n",
    "plt.hist(data=df_userage, x='user_age', color=default_color, bins=bins_edge)\n",
    "plt.xlabel('Age')\n",
    "plt.ylabel('Rides Count')\n",
    "plt.title('Age Distribution')\n",
    "plt.xlim(15, 100)\n",
    "plt.show()"
   ]
  },
  {
   "cell_type": "markdown",
   "metadata": {
    "slideshow": {
     "slide_type": "subslide"
    }
   },
   "source": [
    "The age distribution is unimodal and slightly right skewed with one large peak around 32. The most user of Ford GoBike system are the younger people."
   ]
  },
  {
   "cell_type": "markdown",
   "metadata": {
    "slideshow": {
     "slide_type": "skip"
    }
   },
   "source": [
    "Let's plot the top 10 origin stations from where the ride start."
   ]
  },
  {
   "cell_type": "code",
   "execution_count": 57,
   "metadata": {
    "slideshow": {
     "slide_type": "skip"
    }
   },
   "outputs": [
    {
     "data": {
      "image/png": "[encoded data removed]",
      "text/plain": [
       "<Figure size 720x576 with 1 Axes>"
      ]
     },
     "metadata": {
      "needs_background": "light"
     },
     "output_type": "display_data"
    }
   ],
   "source": [
    "# Plot the top 10 origin/start station\n",
    "origin = (fordgobike_clean.start_station_name.value_counts(ascending=False, sort=True, normalize=True))*100\n",
    "origin_top_ten = origin.head(10)\n",
    "plt.figure(figsize=(10,8))\n",
    "origin_top_ten.plot.bar()\n",
    "plt.xticks(rotation=90)\n",
    "plt.show()"
   ]
  },
  {
   "cell_type": "markdown",
   "metadata": {
    "slideshow": {
     "slide_type": "skip"
    }
   },
   "source": [
    "Let's plot the top 10 destination stations from where the ride start."
   ]
  },
  {
   "cell_type": "code",
   "execution_count": 58,
   "metadata": {
    "slideshow": {
     "slide_type": "skip"
    }
   },
   "outputs": [
    {
     "data": {
      "image/png": "[encoded data removed]",
      "text/plain": [
       "<Figure size 720x576 with 1 Axes>"
      ]
     },
     "metadata": {
      "needs_background": "light"
     },
     "output_type": "display_data"
    }
   ],
   "source": [
    "# Plot the top 10 destination station\n",
    "destination = (fordgobike_clean.end_station_name.value_counts(ascending=False, sort=True, normalize=True))*100\n",
    "destination_top_ten = destination.head(10)\n",
    "plt.figure(figsize=(10,8))\n",
    "destination_top_ten.plot.bar()\n",
    "plt.xticks(rotation=90)\n",
    "plt.show()"
   ]
  },
  {
   "cell_type": "markdown",
   "metadata": {
    "slideshow": {
     "slide_type": "slide"
    }
   },
   "source": [
    "Let's look at the distribution of rides by time "
   ]
  },
  {
   "cell_type": "code",
   "execution_count": 59,
   "metadata": {
    "slideshow": {
     "slide_type": "skip"
    }
   },
   "outputs": [
    {
     "data": {
      "text/plain": [
       "2019-02-01 13:40:09.492    2\n",
       "2019-02-11 17:05:07.840    2\n",
       "2019-02-19 17:52:44.175    2\n",
       "2019-02-01 18:24:34.874    2\n",
       "2019-02-22 20:11:42.256    2\n",
       "                          ..\n",
       "2019-02-22 08:46:15.436    1\n",
       "2019-02-19 17:29:08.242    1\n",
       "2019-02-11 10:24:37.610    1\n",
       "2019-02-20 08:02:52.933    1\n",
       "2019-02-15 07:01:31.319    1\n",
       "Name: start_time, Length: 183401, dtype: int64"
      ]
     },
     "execution_count": 59,
     "metadata": {},
     "output_type": "execute_result"
    }
   ],
   "source": [
    "fordgobike_clean.start_time.value_counts()"
   ]
  },
  {
   "cell_type": "code",
   "execution_count": 61,
   "metadata": {
    "slideshow": {
     "slide_type": "skip"
    }
   },
   "outputs": [
    {
     "data": {
      "text/plain": [
       "0         Thursday\n",
       "1         Thursday\n",
       "2         Thursday\n",
       "3         Thursday\n",
       "4         Thursday\n",
       "            ...   \n",
       "183407      Friday\n",
       "183408      Friday\n",
       "183409      Friday\n",
       "183410      Friday\n",
       "183411      Friday\n",
       "Name: start_time, Length: 183412, dtype: object"
      ]
     },
     "execution_count": 61,
     "metadata": {},
     "output_type": "execute_result"
    }
   ],
   "source": [
    "fordgobike_clean.start_time.dt.day_name()"
   ]
  },
  {
   "cell_type": "code",
   "execution_count": 178,
   "metadata": {
    "slideshow": {
     "slide_type": "subslide"
    }
   },
   "outputs": [
    {
     "data": {
      "image/png": "[encoded data removed]",
      "text/plain": [
       "<Figure size 720x576 with 1 Axes>"
      ]
     },
     "metadata": {
      "needs_background": "light"
     },
     "output_type": "display_data"
    }
   ],
   "source": [
    "# Plot the distrubtion by week days\n",
    "weekday = ['Monday', 'Tuesday', 'Wednesday', 'Thursday', 'Friday', 'Saturday', 'Sunday']\n",
    "plt.figure(figsize=(10,8))\n",
    "day = fordgobike_clean.start_time.dt.day_name()\n",
    "sb.countplot(data=fordgobike_clean,x=day, order=weekday, color=default_color)\n",
    "plt.xlabel('Week Day')\n",
    "plt.ylabel('Rides Count')\n",
    "plt.title('Rides per Day')\n",
    "plt.show()"
   ]
  },
  {
   "cell_type": "markdown",
   "metadata": {
    "slideshow": {
     "slide_type": "subslide"
    }
   },
   "source": [
    "I expected that people will use bike on weekend more, but the above plot show the opposite, it appeart that Thursday, Tuesday and Friday are the busiest days. "
   ]
  },
  {
   "cell_type": "code",
   "execution_count": 63,
   "metadata": {
    "slideshow": {
     "slide_type": "skip"
    }
   },
   "outputs": [
    {
     "data": {
      "text/plain": [
       "0         17\n",
       "1         18\n",
       "2         12\n",
       "3         17\n",
       "4         23\n",
       "          ..\n",
       "183407     0\n",
       "183408     0\n",
       "183409     0\n",
       "183410     0\n",
       "183411     0\n",
       "Name: start_time, Length: 183412, dtype: int64"
      ]
     },
     "execution_count": 63,
     "metadata": {},
     "output_type": "execute_result"
    }
   ],
   "source": [
    "fordgobike_clean.start_time.dt.hour"
   ]
  },
  {
   "cell_type": "code",
   "execution_count": 179,
   "metadata": {
    "slideshow": {
     "slide_type": "subslide"
    }
   },
   "outputs": [
    {
     "data": {
      "image/png": "[encoded data removed]",
      "text/plain": [
       "<Figure size 720x576 with 1 Axes>"
      ]
     },
     "metadata": {
      "needs_background": "light"
     },
     "output_type": "display_data"
    }
   ],
   "source": [
    "# Plot the distrubtion by hours\n",
    "plt.figure(figsize=(10,8))\n",
    "hour = fordgobike_clean.start_time.dt.hour\n",
    "sb.countplot(data=fordgobike_clean, x=hour, color=default_color)\n",
    "plt.xlabel('Hour')\n",
    "plt.ylabel('Rides Count')\n",
    "plt.title('Rides per Hour')\n",
    "plt.show()"
   ]
  },
  {
   "cell_type": "markdown",
   "metadata": {
    "slideshow": {
     "slide_type": "subslide"
    }
   },
   "source": [
    "The above histograme show that 8AM and 5PM are the most hours when users take ride. Mostly it's the time when they go and back from their work."
   ]
  },
  {
   "cell_type": "markdown",
   "metadata": {
    "slideshow": {
     "slide_type": "skip"
    }
   },
   "source": [
    "### Discuss the distribution(s) of your variable(s) of interest. Were there any unusual points? Did you need to perform any transformations?\n",
    "\n",
    "> The duration variable took on a large range of values, so I looked at the data using a log transform and changing the x-axis limit. Under the transformations, the duration distribution looked unimodal with one large peak around 500.\n",
    "\n",
    "\n",
    "### Of the features you investigated, were there any unusual distributions? Did you perform any operations on the data to tidy, adjust, or change the form of the data? If so, why did you do this?\n",
    "\n",
    "> After analyze data, I perform some operations on the variables in order to be in more meaningful format :  \n",
    "> * I calculed the users age based on birthday column. After that, i tidy up the data which have user ages larger than 100 years old.\n",
    "> * I extracted the week day and hour from Start_time column and plot the histogram to see at which time the users take a ride. "
   ]
  },
  {
   "cell_type": "markdown",
   "metadata": {
    "slideshow": {
     "slide_type": "slide"
    }
   },
   "source": [
    "## Bivariate Exploration\n",
    "\n",
    "> In this section, investigate relationships between pairs of variables in the dataset. "
   ]
  },
  {
   "cell_type": "markdown",
   "metadata": {
    "slideshow": {
     "slide_type": "slide"
    }
   },
   "source": [
    "Let start by looking at the ride distribution by gender and user type"
   ]
  },
  {
   "cell_type": "code",
   "execution_count": 180,
   "metadata": {
    "slideshow": {
     "slide_type": "subslide"
    }
   },
   "outputs": [
    {
     "data": {
      "image/png": "[encoded data removed]",
      "text/plain": [
       "<Figure size 864x432 with 1 Axes>"
      ]
     },
     "metadata": {
      "needs_background": "light"
     },
     "output_type": "display_data"
    }
   ],
   "source": [
    "# Plot rides by gender and user type\n",
    "plt.figure(figsize=(12,6))\n",
    "sb.countplot(data = fordgobike_clean, x = 'member_gender', hue = 'user_type')\n",
    "plt.xlabel('Gender')\n",
    "plt.ylabel('Rides Count')\n",
    "plt.title('Rides by Gender and User type')\n",
    "plt.legend(title='User Type')\n",
    "plt.show()"
   ]
  },
  {
   "cell_type": "markdown",
   "metadata": {
    "slideshow": {
     "slide_type": "subslide"
    }
   },
   "source": [
    "The plot show that the subcriber male are the most people who use Ford GoBike system."
   ]
  },
  {
   "cell_type": "markdown",
   "metadata": {
    "slideshow": {
     "slide_type": "slide"
    }
   },
   "source": [
    "Let move on to look at the duration distribution by gender and user type."
   ]
  },
  {
   "cell_type": "code",
   "execution_count": 181,
   "metadata": {
    "slideshow": {
     "slide_type": "subslide"
    }
   },
   "outputs": [
    {
     "data": {
      "image/png": "[encoded data removed]",
      "text/plain": [
       "<Figure size 720x576 with 1 Axes>"
      ]
     },
     "metadata": {
      "needs_background": "light"
     },
     "output_type": "display_data"
    }
   ],
   "source": [
    "# Plot duration by gender\n",
    "plt.figure(figsize=(10,8))\n",
    "sb.barplot(data=fordgobike_clean, x='member_gender', y='duration_sec', color=default_color)\n",
    "plt.xlabel('Gender')\n",
    "plt.ylabel('Duration (s)')\n",
    "plt.title('Duration by Gender')\n",
    "plt.show()"
   ]
  },
  {
   "cell_type": "markdown",
   "metadata": {
    "slideshow": {
     "slide_type": "subslide"
    }
   },
   "source": [
    "It's the opposite of what expected, it's seem that Female take a long rides than Male."
   ]
  },
  {
   "cell_type": "code",
   "execution_count": 182,
   "metadata": {
    "slideshow": {
     "slide_type": "subslide"
    }
   },
   "outputs": [
    {
     "data": {
      "image/png": "[encoded data removed]",
      "text/plain": [
       "<Figure size 720x576 with 1 Axes>"
      ]
     },
     "metadata": {
      "needs_background": "light"
     },
     "output_type": "display_data"
    }
   ],
   "source": [
    "# Plot the duration by user type\n",
    "plt.figure(figsize=(10,8))\n",
    "sb.barplot(data=fordgobike_clean, x='user_type', y='duration_sec', color=default_color)\n",
    "plt.xlabel('User Type')\n",
    "plt.ylabel('Duration (s)')\n",
    "plt.title('Duration by User type')\n",
    "plt.show()"
   ]
  },
  {
   "cell_type": "markdown",
   "metadata": {
    "slideshow": {
     "slide_type": "subslide"
    }
   },
   "source": [
    "It appear that Customers have long ride thant Subscribers."
   ]
  },
  {
   "cell_type": "markdown",
   "metadata": {
    "slideshow": {
     "slide_type": "slide"
    }
   },
   "source": [
    "Let see the age distribution by gender and by user type."
   ]
  },
  {
   "cell_type": "code",
   "execution_count": 184,
   "metadata": {
    "slideshow": {
     "slide_type": "subslide"
    }
   },
   "outputs": [
    {
     "data": {
      "image/png": "[encoded data removed]",
      "text/plain": [
       "<Figure size 720x1008 with 1 Axes>"
      ]
     },
     "metadata": {
      "needs_background": "light"
     },
     "output_type": "display_data"
    }
   ],
   "source": [
    "# Plot age by gender \n",
    "plt.figure(figsize=(10,14))\n",
    "df_userage = fordgobike_clean[fordgobike_clean.user_age.notnull()]\n",
    "plt.subplot(2, 1, 1)\n",
    "sb.boxplot(data=df_userage, x='member_gender', y='user_age', color=default_color)\n",
    "plt.xlabel('Gender')\n",
    "plt.ylabel('Age')\n",
    "plt.title('Age by Gender')\n",
    "plt.show()"
   ]
  },
  {
   "cell_type": "markdown",
   "metadata": {
    "slideshow": {
     "slide_type": "subslide"
    }
   },
   "source": [
    "It seem that the median age for all genders is around 30. And the majority of users are unders the age of 40."
   ]
  },
  {
   "cell_type": "code",
   "execution_count": 13,
   "metadata": {
    "slideshow": {
     "slide_type": "subslide"
    }
   },
   "outputs": [
    {
     "data": {
      "image/png": "[encoded data removed]",
      "text/plain": [
       "<Figure size 720x432 with 1 Axes>"
      ]
     },
     "metadata": {
      "needs_background": "light"
     },
     "output_type": "display_data"
    }
   ],
   "source": [
    "# Plot age by user typer\n",
    "plt.figure(figsize=(10,6))\n",
    "df_userage = fordgobike_clean[fordgobike_clean.user_age.notnull()]\n",
    "sb.boxplot(data=df_userage, x='user_type', y='user_age', color=default_color)\n",
    "plt.xlabel('User Type')\n",
    "plt.ylabel('Age')\n",
    "plt.title('Age by User Type')\n",
    "plt.show()"
   ]
  },
  {
   "cell_type": "markdown",
   "metadata": {
    "slideshow": {
     "slide_type": "subslide"
    }
   },
   "source": [
    "The median age Costumer and Subcriber is around 30."
   ]
  },
  {
   "cell_type": "markdown",
   "metadata": {
    "slideshow": {
     "slide_type": "slide"
    }
   },
   "source": [
    "Let see the relationship between ride duration adn user age."
   ]
  },
  {
   "cell_type": "code",
   "execution_count": 188,
   "metadata": {
    "slideshow": {
     "slide_type": "subslide"
    }
   },
   "outputs": [
    {
     "data": {
      "image/png": "[encoded data removed]",
      "text/plain": [
       "<Figure size 864x576 with 1 Axes>"
      ]
     },
     "metadata": {
      "needs_background": "light"
     },
     "output_type": "display_data"
    }
   ],
   "source": [
    "# duration_sec and user_age\n",
    "plt.figure(figsize=(12,8))\n",
    "df_userage = fordgobike_clean[fordgobike_clean.user_age.notnull()]\n",
    "plt.scatter(data=df_userage, x='user_age', y='duration_sec')\n",
    "plt.yscale('log')\n",
    "plt.xscale('log')\n",
    "duration_ticks = [50, 100, 200, 500, 1000, 2000, 5000, 10000, 20000, 50000, 100000]\n",
    "age_ticks = [18, 20, 25, 30, 35, 40, 50, 60, 70]\n",
    "plt.yticks(duration_ticks, [50, 100, 200, 500, '1k', '2k', '5k', '10k', '20k', '50k', '100k'])\n",
    "plt.xticks(age_ticks, age_ticks)\n",
    "plt.xlabel('Log Age')\n",
    "plt.ylabel('Log Duration (s)')\n",
    "plt.title('Relationship between Ride Duration and User Age')\n",
    "plt.show()"
   ]
  },
  {
   "cell_type": "markdown",
   "metadata": {
    "slideshow": {
     "slide_type": "subslide"
    }
   },
   "source": [
    "The plot show that more the user age increase more the duration decrease. It seems also that the younger users have the higher duration distribution, the user with age between 23 and 33 take a long rides."
   ]
  },
  {
   "cell_type": "markdown",
   "metadata": {
    "slideshow": {
     "slide_type": "skip"
    }
   },
   "source": [
    "Now let's look at the duration distribution by time."
   ]
  },
  {
   "cell_type": "code",
   "execution_count": 150,
   "metadata": {
    "slideshow": {
     "slide_type": "skip"
    }
   },
   "outputs": [
    {
     "data": {
      "text/plain": [
       "4.931681571347222"
      ]
     },
     "execution_count": 150,
     "metadata": {},
     "output_type": "execute_result"
    }
   ],
   "source": [
    "np.log10(fordgobike_clean.duration_sec.max())"
   ]
  },
  {
   "cell_type": "code",
   "execution_count": 154,
   "metadata": {
    "slideshow": {
     "slide_type": "skip"
    }
   },
   "outputs": [
    {
     "data": {
      "image/png": "[encoded data removed]",
      "text/plain": [
       "<Figure size 864x576 with 1 Axes>"
      ]
     },
     "metadata": {
      "needs_background": "light"
     },
     "output_type": "display_data"
    }
   ],
   "source": [
    "# Plot the duration distribution by week day\n",
    "plt.figure(figsize=(12,8))\n",
    "order = ['Monday', 'Tuesday', 'Wednesday', 'Thursday', 'Friday', 'Saturday', 'Sunday']\n",
    "fordgobike_clean['weekday'] = fordgobike_clean.start_time.dt.day_name()\n",
    "fordgobike_clean['weekday'] = [order.index(x) for x in fordgobike_clean['weekday']]\n",
    "plt.xticks(range(len(order)), order)\n",
    "sb.scatterplot(data=fordgobike_clean, x='weekday', y='duration_sec')\n",
    "plt.yscale('log')\n",
    "duration_ticks = [50, 100, 200, 500, 1000, 2000, 5000, 10000, 20000, 50000, 100000]\n",
    "plt.yticks(duration_ticks, [50, 100, 200, 500, '1k', '2k', '5k', '10k', '20k', '50k', '100k'])\n",
    "plt.axhline(y=fordgobike_clean.duration_sec.max(), color='r', linestyle='-')\n",
    "plt.xlabel('Day')\n",
    "plt.ylabel('Log Duration (s)')\n",
    "plt.show()"
   ]
  },
  {
   "cell_type": "markdown",
   "metadata": {
    "slideshow": {
     "slide_type": "skip"
    }
   },
   "source": [
    "It seems that Wednesday and Saturday is the day where user take a long rides."
   ]
  },
  {
   "cell_type": "code",
   "execution_count": 155,
   "metadata": {
    "slideshow": {
     "slide_type": "skip"
    }
   },
   "outputs": [
    {
     "data": {
      "image/png": "[encoded data removed]",
      "text/plain": [
       "<Figure size 1080x432 with 1 Axes>"
      ]
     },
     "metadata": {
      "needs_background": "light"
     },
     "output_type": "display_data"
    }
   ],
   "source": [
    "plt.figure(figsize=(15,6))\n",
    "sb.scatterplot(data=fordgobike_clean, x=fordgobike_clean.start_time.dt.hour, y='duration_sec')\n",
    "plt.yscale('log')\n",
    "duration_ticks = [50, 100, 200, 500, 1000, 2000, 5000, 10000, 20000, 50000, 100000]\n",
    "plt.yticks(duration_ticks, [50, 100, 200, 500, '1k', '2k', '5k', '10k', '20k', '50k', '100k'])\n",
    "plt.axhline(y=fordgobike_clean.duration_sec.max(), color='r', linestyle='-')\n",
    "plt.xlabel('Hour')\n",
    "plt.ylabel('Duration (s)')\n",
    "plt.show()"
   ]
  },
  {
   "cell_type": "markdown",
   "metadata": {
    "slideshow": {
     "slide_type": "skip"
    }
   },
   "source": [
    "The plot show that the long rides has being taken between 9AM and 5PM."
   ]
  },
  {
   "cell_type": "markdown",
   "metadata": {
    "slideshow": {
     "slide_type": "skip"
    }
   },
   "source": [
    "### Talk about some of the relationships you observed in this part of the investigation. How did the feature(s) of interest vary with other features in the dataset?\n",
    "\n",
    "> * The duration and age show a very low correlation.  \n",
    "> * The rides taken by Female and Costumers are longer than rides taken by male and subscriber.  \n",
    "> * The age of the majority of user is under 40 years old.  \n",
    "\n",
    "### Did you observe any interesting relationships between the other features (not the main feature(s) of interest)?\n",
    "\n",
    "> The most subcribe to Ford Gobike system are Male.\n"
   ]
  },
  {
   "cell_type": "markdown",
   "metadata": {
    "slideshow": {
     "slide_type": "slide"
    }
   },
   "source": [
    "## Multivariate Exploration\n",
    "\n",
    "> In this section, investigate the dataset by creating plots of three or more variables."
   ]
  },
  {
   "cell_type": "markdown",
   "metadata": {
    "slideshow": {
     "slide_type": "slide"
    }
   },
   "source": [
    "Let start with the relationship between gender, user type and duration"
   ]
  },
  {
   "cell_type": "code",
   "execution_count": 187,
   "metadata": {
    "slideshow": {
     "slide_type": "subslide"
    }
   },
   "outputs": [
    {
     "data": {
      "image/png": "[encoded data removed]",
      "text/plain": [
       "<Figure size 864x432 with 1 Axes>"
      ]
     },
     "metadata": {
      "needs_background": "light"
     },
     "output_type": "display_data"
    }
   ],
   "source": [
    "# Plot duration by gender and user type\n",
    "plt.figure(figsize=(12,6))\n",
    "sb.barplot(data = fordgobike_clean, x='member_gender', y='duration_sec', hue = 'user_type')\n",
    "plt.xlabel('Gender')\n",
    "plt.ylabel('Duration (s)')\n",
    "plt.title('Ride Duration by Gender and User Type')\n",
    "plt.legend(title='User Type')\n",
    "plt.show()"
   ]
  },
  {
   "cell_type": "markdown",
   "metadata": {
    "slideshow": {
     "slide_type": "subslide"
    }
   },
   "source": [
    "The plot show that Female customer take a long rides than other."
   ]
  },
  {
   "cell_type": "markdown",
   "metadata": {
    "slideshow": {
     "slide_type": "slide"
    }
   },
   "source": [
    "Let move on and see the relationship between gender, user type and age"
   ]
  },
  {
   "cell_type": "code",
   "execution_count": 189,
   "metadata": {
    "slideshow": {
     "slide_type": "subslide"
    }
   },
   "outputs": [
    {
     "data": {
      "image/png": "[encoded data removed]",
      "text/plain": [
       "<Figure size 864x432 with 1 Axes>"
      ]
     },
     "metadata": {
      "needs_background": "light"
     },
     "output_type": "display_data"
    }
   ],
   "source": [
    "# Plot age bu gender and user type\n",
    "plt.figure(figsize=(12,6))\n",
    "sb.boxplot(data = fordgobike_clean, x='member_gender', y='user_age', hue = 'user_type')\n",
    "plt.xlabel('Gender')\n",
    "plt.ylabel('Age')\n",
    "plt.title('User Age by Gender and User type')\n",
    "plt.legend(title='User Type')\n",
    "plt.show()"
   ]
  },
  {
   "cell_type": "markdown",
   "metadata": {
    "slideshow": {
     "slide_type": "subslide"
    }
   },
   "source": [
    "The age median of user is around 30 and it's the same for all gender and user type."
   ]
  },
  {
   "cell_type": "markdown",
   "metadata": {
    "slideshow": {
     "slide_type": "slide"
    }
   },
   "source": [
    "Relationship between duration, gender and user type"
   ]
  },
  {
   "cell_type": "code",
   "execution_count": null,
   "metadata": {
    "slideshow": {
     "slide_type": "subslide"
    }
   },
   "outputs": [],
   "source": [
    "g = sb.PairGrid(data = fordgobike_clean, y_vars = 'duration_sec', x_vars = categoric_vars,\n",
    "                size = 3, aspect = 1.5)"
   ]
  },
  {
   "cell_type": "code",
   "execution_count": 193,
   "metadata": {
    "slideshow": {
     "slide_type": "subslide"
    }
   },
   "outputs": [
    {
     "data": {
      "image/png": "[encoded data removed]",
      "text/plain": [
       "<Figure size 1080x576 with 2 Axes>"
      ]
     },
     "metadata": {
      "needs_background": "light"
     },
     "output_type": "display_data"
    }
   ],
   "source": [
    "fig = plt.figure(figsize=(15,8))\n",
    "plt.subplot(2, 1, 1)\n",
    "ax = sb.pointplot(data=fordgobike_clean, x='weekday' , y='duration_sec', hue='member_gender')\n",
    "plt.xlabel('Week Days')\n",
    "plt.ylabel('Duration (s)')\n",
    "ax.legend(title='Gender')\n",
    "\n",
    "plt.subplot(2, 1, 2)\n",
    "ax = sb.pointplot(data=fordgobike_clean, x='weekday' , y='duration_sec', hue='user_type')\n",
    "plt.xlabel('Week Days')\n",
    "plt.ylabel('Duration (s)')\n",
    "fig.suptitle('Ride duration per Day by Gender and User Type')\n",
    "ax.legend(title='User Type')\n",
    "plt.show()"
   ]
  },
  {
   "cell_type": "markdown",
   "metadata": {
    "slideshow": {
     "slide_type": "subslide"
    }
   },
   "source": [
    "The plot show that the duration for gender is stable in the begening of week, but an remarkable increase happen in weekend.  \n",
    "For subscriber the duration is keep stable in all the week while the duration of customer increase in weekend.\n"
   ]
  },
  {
   "cell_type": "markdown",
   "metadata": {
    "slideshow": {
     "slide_type": "skip"
    }
   },
   "source": [
    "### Talk about some of the relationships you observed in this part of the investigation. Were there features that strengthened each other in terms of looking at your feature(s) of interest?\n",
    "\n",
    "> * The female customers has a higher duration than other.  \n",
    "> * The younger people are the most who use the Ford GoBike, and they are active more active at 8 am and 5 pm.  \n",
    "> * The highest frequencies of rides are is in the middle of the week but the longuest rides are in the weekend. Maybe the rides of the midlle of the week are for professional business instead of rides of weekend that are for promenade and picnic.  \n",
    "\n",
    "### Were there any interesting or surprising interactions between features?\n",
    "\n",
    "> I was suprprising that the subscriber duration is less, we need more data to investigate the reason behind that."
   ]
  },
  {
   "cell_type": "code",
   "execution_count": null,
   "metadata": {
    "slideshow": {
     "slide_type": "skip"
    }
   },
   "outputs": [],
   "source": []
  }
 ],
 "metadata": {
  "celltoolbar": "Slideshow",
  "kernelspec": {
   "display_name": "Python 3",
   "language": "python",
   "name": "python3"
  },
  "language_info": {
   "codemirror_mode": {
    "name": "ipython",
    "version": 3
   },
   "file_extension": ".py",
   "mimetype": "text/x-python",
   "name": "python",
   "nbconvert_exporter": "python",
   "pygments_lexer": "ipython3",
   "version": "3.7.9"
  }
 },
 "nbformat": 4,
 "nbformat_minor": 2
}
